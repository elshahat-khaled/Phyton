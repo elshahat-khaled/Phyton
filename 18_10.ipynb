{
  "nbformat": 4,
  "nbformat_minor": 0,
  "metadata": {
    "colab": {
      "name": "18/10.ipynb",
      "provenance": [],
      "collapsed_sections": []
    },
    "kernelspec": {
      "name": "python3",
      "display_name": "Python 3"
    },
    "language_info": {
      "name": "python"
    }
  },
  "cells": [
    {
      "cell_type": "markdown",
      "metadata": {
        "id": "urYsdtDmPzQs"
      },
      "source": [
        " scrivere un programma che permetta all'utente di inserire tre valori e visualizzi quello intermedio."
      ]
    },
    {
      "cell_type": "code",
      "metadata": {
        "id": "Fyp21-w7P0R0"
      },
      "source": [
        "n1,n2,n3 = int(input()),int(input()),int(input())\n",
        "if n3<n1<n2 or n3>n1>n2:\n",
        "  print(n1)\n",
        "elif n3<n1<n2 or n3>n1>n2:\n",
        "    print(n2)\n",
        "else:\n",
        "      print(n3)"
      ],
      "execution_count": null,
      "outputs": []
    },
    {
      "cell_type": "code",
      "metadata": {
        "colab": {
          "base_uri": "https://localhost:8080/"
        },
        "id": "BRxfEa2_RndV",
        "outputId": "1f849ab9-fce7-47a1-c6aa-1adc79df7a98"
      },
      "source": [
        "lst=[int(n) for n in input().split()]\n",
        "lst.sort()\n",
        "print(lst)\n",
        "if len(lst)%2 == 1:\n",
        "  print(lst[(len(lst)+1)//2-1])\n",
        "else:\n",
        "  print((lst[len(lst)//2-1]+lst[len(lst)//2])/2)\n"
      ],
      "execution_count": null,
      "outputs": [
        {
          "output_type": "stream",
          "name": "stdout",
          "text": [
            "7 5 9 1 4 6 3 6\n",
            "[1, 3, 4, 5, 6, 6, 7, 9]\n",
            "5.5\n"
          ]
        }
      ]
    },
    {
      "cell_type": "code",
      "metadata": {
        "id": "1vuNwZJQG92e"
      },
      "source": [
        "stringa = input()\n",
        "print(stringa)\n",
        "x = stringa.split()\n",
        "print(x)\n",
        "y = list(map(int,x)\n",
        "print(y)"
      ],
      "execution_count": null,
      "outputs": []
    },
    {
      "cell_type": "code",
      "metadata": {
        "colab": {
          "base_uri": "https://localhost:8080/"
        },
        "id": "lmswbgSpH9MI",
        "outputId": "ee7f398e-5c37-44d8-ede9-c37dcefed207"
      },
      "source": [
        "lst = list(map(int,input().split()))\n",
        "M = int(input())\n",
        "lst2 = [el for el in lst if el % M == 0]\n",
        "print(lst)\n",
        "print(lst2)"
      ],
      "execution_count": null,
      "outputs": [
        {
          "output_type": "stream",
          "name": "stdout",
          "text": [
            "10 20 30 18\n",
            "10\n",
            "[10, 20, 30, 18]\n",
            "[10, 20, 30]\n"
          ]
        }
      ]
    },
    {
      "cell_type": "code",
      "metadata": {
        "colab": {
          "base_uri": "https://localhost:8080/"
        },
        "id": "SADwKhKAKicn",
        "outputId": "e6cc4173-c17d-40fc-d80d-5bb9d941cf0d"
      },
      "source": [
        "nomi = input().split()\n",
        "num = input().split()\n",
        "d = dict(zip(nomi,num))\n",
        "d.items()"
      ],
      "execution_count": null,
      "outputs": [
        {
          "name": "stdout",
          "output_type": "stream",
          "text": [
            "mario luca ugo\n",
            "123 123 231\n"
          ]
        },
        {
          "output_type": "execute_result",
          "data": {
            "text/plain": [
              "dict_items([('mario', '123'), ('luca', '123'), ('ugo', '231')])"
            ]
          },
          "metadata": {},
          "execution_count": 8
        }
      ]
    },
    {
      "cell_type": "code",
      "metadata": {
        "colab": {
          "base_uri": "https://localhost:8080/"
        },
        "id": "SzszPLO3LT3M",
        "outputId": "53d485df-992c-4eaa-faa8-9efd92a47a20"
      },
      "source": [
        "n = int(input())\n",
        "d = {}\n",
        "for i in range(n):\n",
        "  data = input('inserisci nome nome e num')\n",
        "  temp = data.split()\n",
        "  d[temp[0]] = temp[1]\n",
        "d"
      ],
      "execution_count": null,
      "outputs": [
        {
          "name": "stdout",
          "output_type": "stream",
          "text": [
            "2\n",
            "nomemario 321615\n",
            "nomeluca 416514621\n"
          ]
        },
        {
          "output_type": "execute_result",
          "data": {
            "text/plain": [
              "{'luca': '416514621', 'mario': '321615'}"
            ]
          },
          "metadata": {},
          "execution_count": 10
        }
      ]
    },
    {
      "cell_type": "code",
      "metadata": {
        "id": "jw55Bxs-OEd8"
      },
      "source": [
        "nome = input()\n",
        "print(d[nome])"
      ],
      "execution_count": null,
      "outputs": []
    },
    {
      "cell_type": "code",
      "metadata": {
        "colab": {
          "base_uri": "https://localhost:8080/",
          "height": 135
        },
        "id": "5nN1SVGnOedD",
        "outputId": "607c2314-3e14-4280-dade-95f017530e04"
      },
      "source": [
        "def volume(r,h)\n",
        "  return a*h\n",
        "\n",
        "r = int(input())\n",
        "h = int(input())\n",
        "v = volume(r,h)\n",
        "print(v)"
      ],
      "execution_count": null,
      "outputs": [
        {
          "output_type": "error",
          "ename": "SyntaxError",
          "evalue": "ignored",
          "traceback": [
            "\u001b[0;36m  File \u001b[0;32m\"<ipython-input-13-0dc524854e55>\"\u001b[0;36m, line \u001b[0;32m1\u001b[0m\n\u001b[0;31m    def volume(r,h)\u001b[0m\n\u001b[0m                   ^\u001b[0m\n\u001b[0;31mSyntaxError\u001b[0m\u001b[0;31m:\u001b[0m invalid syntax\n"
          ]
        }
      ]
    }
  ]
}
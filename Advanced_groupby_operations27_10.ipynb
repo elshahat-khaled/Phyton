{
  "nbformat": 4,
  "nbformat_minor": 0,
  "metadata": {
    "celltoolbar": "Nbtutor - export exercises",
    "kernelspec": {
      "display_name": "Python 3",
      "language": "python",
      "name": "python3"
    },
    "language_info": {
      "codemirror_mode": {
        "name": "ipython",
        "version": 3
      },
      "file_extension": ".py",
      "mimetype": "text/x-python",
      "name": "python",
      "nbconvert_exporter": "python",
      "pygments_lexer": "ipython3",
      "version": "3.5.2"
    },
    "colab": {
      "name": " Advanced groupby operations27/10.ipynb",
      "provenance": [],
      "collapsed_sections": [
        "j0g7hp-kcsT3",
        "yUTu5im0csT5"
      ]
    }
  },
  "cells": [
    {
      "cell_type": "markdown",
      "metadata": {
        "id": "t_b9K8TucsTn"
      },
      "source": [
        "# Groupby operations"
      ]
    },
    {
      "cell_type": "markdown",
      "metadata": {
        "id": "NXm6K_KBcsTo"
      },
      "source": [
        "Some imports:"
      ]
    },
    {
      "cell_type": "code",
      "metadata": {
        "id": "_tMT1L80csTp"
      },
      "source": [
        "%matplotlib inline\n",
        "import pandas as pd\n",
        "import numpy as np\n",
        "import matplotlib.pyplot as plt\n",
        "try:\n",
        "    import seaborn\n",
        "except ImportError:\n",
        "    pass\n"
      ],
      "execution_count": null,
      "outputs": []
    },
    {
      "cell_type": "markdown",
      "metadata": {
        "id": "4D_dMtLycsTv"
      },
      "source": [
        "## And now applying this on some real data"
      ]
    },
    {
      "cell_type": "markdown",
      "metadata": {
        "id": "FtAA4hOYcsTw"
      },
      "source": [
        "`cast` dataset: different roles played by actors/actresses in films\n",
        "\n",
        "- title: title of the film\n",
        "- name: name of the actor/actress\n",
        "- type: actor/actress\n",
        "- n: the order of the role (n=1: leading role)"
      ]
    },
    {
      "cell_type": "markdown",
      "metadata": {
        "id": "IAXJoYH6s0Yr"
      },
      "source": [
        "File csv da scaricare da questo [link](https://drive.google.com/file/d/1NY6cmF9Shjw-dD7BD6bNmfcIVz-kQcFR/view)"
      ]
    },
    {
      "cell_type": "code",
      "metadata": {
        "colab": {
          "base_uri": "https://localhost:8080/",
          "height": 423
        },
        "id": "KE2KyK5tcsTw",
        "outputId": "ca6a016b-8fe3-4e59-c951-32b26188de0f"
      },
      "source": [
        "titles = pd.read_csv('titles.csv')\n",
        "titles"
      ],
      "execution_count": null,
      "outputs": [
        {
          "output_type": "execute_result",
          "data": {
            "text/html": [
              "<div>\n",
              "<style scoped>\n",
              "    .dataframe tbody tr th:only-of-type {\n",
              "        vertical-align: middle;\n",
              "    }\n",
              "\n",
              "    .dataframe tbody tr th {\n",
              "        vertical-align: top;\n",
              "    }\n",
              "\n",
              "    .dataframe thead th {\n",
              "        text-align: right;\n",
              "    }\n",
              "</style>\n",
              "<table border=\"1\" class=\"dataframe\">\n",
              "  <thead>\n",
              "    <tr style=\"text-align: right;\">\n",
              "      <th></th>\n",
              "      <th>title</th>\n",
              "      <th>year</th>\n",
              "    </tr>\n",
              "  </thead>\n",
              "  <tbody>\n",
              "    <tr>\n",
              "      <th>0</th>\n",
              "      <td>The Rising Son</td>\n",
              "      <td>1990</td>\n",
              "    </tr>\n",
              "    <tr>\n",
              "      <th>1</th>\n",
              "      <td>The Thousand Plane Raid</td>\n",
              "      <td>1969</td>\n",
              "    </tr>\n",
              "    <tr>\n",
              "      <th>2</th>\n",
              "      <td>Crucea de piatra</td>\n",
              "      <td>1993</td>\n",
              "    </tr>\n",
              "    <tr>\n",
              "      <th>3</th>\n",
              "      <td>Country</td>\n",
              "      <td>2000</td>\n",
              "    </tr>\n",
              "    <tr>\n",
              "      <th>4</th>\n",
              "      <td>Gaiking II</td>\n",
              "      <td>2011</td>\n",
              "    </tr>\n",
              "    <tr>\n",
              "      <th>...</th>\n",
              "      <td>...</td>\n",
              "      <td>...</td>\n",
              "    </tr>\n",
              "    <tr>\n",
              "      <th>232325</th>\n",
              "      <td>E yue</td>\n",
              "      <td>2005</td>\n",
              "    </tr>\n",
              "    <tr>\n",
              "      <th>232326</th>\n",
              "      <td>Lakota Girls</td>\n",
              "      <td>2015</td>\n",
              "    </tr>\n",
              "    <tr>\n",
              "      <th>232327</th>\n",
              "      <td>Kroniki domowe</td>\n",
              "      <td>1997</td>\n",
              "    </tr>\n",
              "    <tr>\n",
              "      <th>232328</th>\n",
              "      <td>Awakening the Zodiac</td>\n",
              "      <td>2017</td>\n",
              "    </tr>\n",
              "    <tr>\n",
              "      <th>232329</th>\n",
              "      <td>Death in the Valley of Good and Evil</td>\n",
              "      <td>2018</td>\n",
              "    </tr>\n",
              "  </tbody>\n",
              "</table>\n",
              "<p>232330 rows × 2 columns</p>\n",
              "</div>"
            ],
            "text/plain": [
              "                                       title  year\n",
              "0                             The Rising Son  1990\n",
              "1                    The Thousand Plane Raid  1969\n",
              "2                           Crucea de piatra  1993\n",
              "3                                    Country  2000\n",
              "4                                 Gaiking II  2011\n",
              "...                                      ...   ...\n",
              "232325                                 E yue  2005\n",
              "232326                          Lakota Girls  2015\n",
              "232327                        Kroniki domowe  1997\n",
              "232328                  Awakening the Zodiac  2017\n",
              "232329  Death in the Valley of Good and Evil  2018\n",
              "\n",
              "[232330 rows x 2 columns]"
            ]
          },
          "metadata": {},
          "execution_count": 14
        }
      ]
    },
    {
      "cell_type": "code",
      "metadata": {
        "id": "94K8FFrepGNW"
      },
      "source": [
        ""
      ],
      "execution_count": null,
      "outputs": []
    },
    {
      "cell_type": "code",
      "metadata": {
        "colab": {
          "base_uri": "https://localhost:8080/",
          "height": 206
        },
        "id": "4VKCnggZcsTx",
        "outputId": "4681ab42-8884-45c4-8948-687ea221bdac"
      },
      "source": [
        "cast = pd.read_csv('cast.csv')\n",
        "cast.head()"
      ],
      "execution_count": null,
      "outputs": [
        {
          "output_type": "execute_result",
          "data": {
            "text/html": [
              "<div>\n",
              "<style scoped>\n",
              "    .dataframe tbody tr th:only-of-type {\n",
              "        vertical-align: middle;\n",
              "    }\n",
              "\n",
              "    .dataframe tbody tr th {\n",
              "        vertical-align: top;\n",
              "    }\n",
              "\n",
              "    .dataframe thead th {\n",
              "        text-align: right;\n",
              "    }\n",
              "</style>\n",
              "<table border=\"1\" class=\"dataframe\">\n",
              "  <thead>\n",
              "    <tr style=\"text-align: right;\">\n",
              "      <th></th>\n",
              "      <th>title</th>\n",
              "      <th>year</th>\n",
              "      <th>name</th>\n",
              "      <th>type</th>\n",
              "      <th>character</th>\n",
              "      <th>n</th>\n",
              "    </tr>\n",
              "  </thead>\n",
              "  <tbody>\n",
              "    <tr>\n",
              "      <th>0</th>\n",
              "      <td>Closet Monster</td>\n",
              "      <td>2015</td>\n",
              "      <td>Buffy #1</td>\n",
              "      <td>actor</td>\n",
              "      <td>Buffy 4</td>\n",
              "      <td>NaN</td>\n",
              "    </tr>\n",
              "    <tr>\n",
              "      <th>1</th>\n",
              "      <td>Suuri illusioni</td>\n",
              "      <td>1985</td>\n",
              "      <td>Homo $</td>\n",
              "      <td>actor</td>\n",
              "      <td>Guests</td>\n",
              "      <td>22.0</td>\n",
              "    </tr>\n",
              "    <tr>\n",
              "      <th>2</th>\n",
              "      <td>Battle of the Sexes</td>\n",
              "      <td>2017</td>\n",
              "      <td>$hutter</td>\n",
              "      <td>actor</td>\n",
              "      <td>Bobby Riggs Fan</td>\n",
              "      <td>10.0</td>\n",
              "    </tr>\n",
              "    <tr>\n",
              "      <th>3</th>\n",
              "      <td>Secret in Their Eyes</td>\n",
              "      <td>2015</td>\n",
              "      <td>$hutter</td>\n",
              "      <td>actor</td>\n",
              "      <td>2002 Dodger Fan</td>\n",
              "      <td>NaN</td>\n",
              "    </tr>\n",
              "    <tr>\n",
              "      <th>4</th>\n",
              "      <td>Steve Jobs</td>\n",
              "      <td>2015</td>\n",
              "      <td>$hutter</td>\n",
              "      <td>actor</td>\n",
              "      <td>1988 Opera House Patron</td>\n",
              "      <td>NaN</td>\n",
              "    </tr>\n",
              "  </tbody>\n",
              "</table>\n",
              "</div>"
            ],
            "text/plain": [
              "                  title  year      name   type                character     n\n",
              "0        Closet Monster  2015  Buffy #1  actor                  Buffy 4   NaN\n",
              "1       Suuri illusioni  1985    Homo $  actor                   Guests  22.0\n",
              "2   Battle of the Sexes  2017   $hutter  actor          Bobby Riggs Fan  10.0\n",
              "3  Secret in Their Eyes  2015   $hutter  actor          2002 Dodger Fan   NaN\n",
              "4            Steve Jobs  2015   $hutter  actor  1988 Opera House Patron   NaN"
            ]
          },
          "metadata": {},
          "execution_count": 16
        }
      ]
    },
    {
      "cell_type": "markdown",
      "metadata": {
        "id": "7m_iftX1csTx"
      },
      "source": [
        "<div class=\"alert alert-success\">\n",
        "    <b>EXERCISE</b>: Usa groupby(), crea un plot dei numeri di film rilasciati per ciascun decenio nella storia del cinema.\n",
        "</div>"
      ]
    },
    {
      "cell_type": "code",
      "metadata": {
        "clear_cell": true,
        "id": "SpUgB9xhcsTx"
      },
      "source": [
        "# %load snippets/04b - Advanced groupby operations8.py"
      ],
      "execution_count": null,
      "outputs": []
    },
    {
      "cell_type": "markdown",
      "metadata": {
        "id": "j3jOtrSCcsTy"
      },
      "source": [
        "<div class=\"alert alert-success\">\n",
        "    <b>EXERCISE</b>: Usa groupby() per creare un plot dei numeri di film di \"Hemlet\" creati ogni decenio.\n",
        "</div>"
      ]
    },
    {
      "cell_type": "code",
      "metadata": {
        "clear_cell": true,
        "id": "MLHc1p0scsTy"
      },
      "source": [
        "# %load snippets/04b - Advanced groupby operations9.py"
      ],
      "execution_count": null,
      "outputs": []
    },
    {
      "cell_type": "markdown",
      "metadata": {
        "id": "1Oisb5aTcsTy"
      },
      "source": [
        "<div class=\"alert alert-success\">\n",
        "    <b>EXERCISE</b>: Quanti ruoli principali (n=1) erano disponibili per gli attori, e quanti per le attrici,in ogni anno degli anni 50?\n",
        "</div>"
      ]
    },
    {
      "cell_type": "code",
      "metadata": {
        "clear_cell": true,
        "scrolled": true,
        "id": "J4KdDqzLcsTz"
      },
      "source": [
        "# %load snippets/04b - Advanced groupby operations10.py"
      ],
      "execution_count": null,
      "outputs": []
    },
    {
      "cell_type": "markdown",
      "metadata": {
        "id": "P3U9oorDcsTz"
      },
      "source": [
        "<div class=\"alert alert-success\">\n",
        "    <b>EXERCISE</b>:Elenca i 10 attori/attrici che hanno avuto il maggior numero di ruoli principali(n=1) dai anni 90.\n",
        "</div>"
      ]
    },
    {
      "cell_type": "code",
      "metadata": {
        "clear_cell": true,
        "id": "rs2KB50acsTz"
      },
      "source": [
        "# %load snippets/04b - Advanced groupby operations11.py"
      ],
      "execution_count": null,
      "outputs": []
    },
    {
      "cell_type": "markdown",
      "metadata": {
        "id": "cJ1TUvVccsTz"
      },
      "source": [
        "<div class=\"alert alert-success\">\n",
        "    <b>EXERCISE</b>:Usa groupby() per dereminare quanti ruoli sono elencati per ciascun film di Pink Panther.\n",
        "</div>"
      ]
    },
    {
      "cell_type": "code",
      "metadata": {
        "clear_cell": true,
        "id": "mhde6kmwcsT0"
      },
      "source": [
        "# %load snippets/04b - Advanced groupby operations12.py"
      ],
      "execution_count": null,
      "outputs": []
    },
    {
      "cell_type": "markdown",
      "metadata": {
        "id": "Ng-LYx3_csT0"
      },
      "source": [
        "<div class=\"alert alert-success\">\n",
        "    <b>EXERCISE</b>: Elenca, per ordine cronologico, ciascun film dove Frank Oz ha lavorato a piu di un ruolo\n",
        "</div>"
      ]
    },
    {
      "cell_type": "code",
      "metadata": {
        "clear_cell": true,
        "id": "zQ2itlkVcsT0"
      },
      "source": [
        "# %load snippets/04b - Advanced groupby operations13.py"
      ],
      "execution_count": null,
      "outputs": []
    },
    {
      "cell_type": "markdown",
      "metadata": {
        "id": "kpU84EWKcsT0"
      },
      "source": [
        "<div class=\"alert alert-success\">\n",
        "    <b>EXERCISE</b>:Elenca ciascun personaggio che Frank Oz ha raffigurato almeno 2 volte.\n",
        "</div>"
      ]
    },
    {
      "cell_type": "code",
      "metadata": {
        "clear_cell": true,
        "id": "UCXNl1ZRcsT0"
      },
      "source": [
        "# %load snippets/04b - Advanced groupby operations15.py"
      ],
      "execution_count": null,
      "outputs": []
    },
    {
      "cell_type": "markdown",
      "metadata": {
        "id": "wwEoaSltcsT0"
      },
      "source": [
        "## Transforms"
      ]
    },
    {
      "cell_type": "markdown",
      "metadata": {
        "id": "OFQGd5-8csT1"
      },
      "source": [
        "Sometimes you don't want to aggregate the groups, but transform the values in each group. This can be achieved with `transform`:"
      ]
    },
    {
      "cell_type": "code",
      "metadata": {
        "id": "9NBqiIZvcsT1"
      },
      "source": [
        "df"
      ],
      "execution_count": null,
      "outputs": []
    },
    {
      "cell_type": "code",
      "metadata": {
        "id": "tCF3IrNGcsT1"
      },
      "source": [
        "df.groupby('key').transform('mean')"
      ],
      "execution_count": null,
      "outputs": []
    },
    {
      "cell_type": "code",
      "metadata": {
        "collapsed": true,
        "id": "kf0E1Uz9csT1"
      },
      "source": [
        "def normalize(group):\n",
        "    return (group - group.mean()) / group.std()"
      ],
      "execution_count": null,
      "outputs": []
    },
    {
      "cell_type": "code",
      "metadata": {
        "id": "zV4sFPz0csT1"
      },
      "source": [
        "df.groupby('key').transform(normalize)"
      ],
      "execution_count": null,
      "outputs": []
    },
    {
      "cell_type": "code",
      "metadata": {
        "id": "ngndIJJlcsT2"
      },
      "source": [
        "df.groupby('key').transform('sum')"
      ],
      "execution_count": null,
      "outputs": []
    },
    {
      "cell_type": "markdown",
      "metadata": {
        "id": "vSHM9jCpcsT2"
      },
      "source": [
        "<div class=\"alert alert-success\">\n",
        "    <b>EXERCISE</b>: Add a column to the `cast` dataframe that indicates the number of roles for the film.\n",
        "</div>"
      ]
    },
    {
      "cell_type": "code",
      "metadata": {
        "clear_cell": true,
        "id": "sfhg46AncsT2"
      },
      "source": [
        "# %load snippets/04b - Advanced groupby operations21.py"
      ],
      "execution_count": null,
      "outputs": []
    },
    {
      "cell_type": "markdown",
      "metadata": {
        "id": "GzKO6RYbcsT2"
      },
      "source": [
        "<div class=\"alert alert-success\">\n",
        "    <b>EXERCISE</b>: Calculate the ratio of leading actor and actress roles to the total number of leading roles per decade.     \n",
        "</div>\n",
        "\n",
        "Tip: you can to do a groupby twice in two steps,  once calculating the numbers, and then the ratios."
      ]
    },
    {
      "cell_type": "code",
      "metadata": {
        "clear_cell": true,
        "id": "Bnd3YvTicsT2"
      },
      "source": [
        "# %load snippets/04b - Advanced groupby operations22.py"
      ],
      "execution_count": null,
      "outputs": []
    },
    {
      "cell_type": "code",
      "metadata": {
        "clear_cell": true,
        "id": "ekav5fi9csT2"
      },
      "source": [
        "# %load snippets/04b - Advanced groupby operations23.py"
      ],
      "execution_count": null,
      "outputs": []
    },
    {
      "cell_type": "code",
      "metadata": {
        "clear_cell": true,
        "scrolled": false,
        "id": "h0grYdx_csT3"
      },
      "source": [
        "# %load snippets/04b - Advanced groupby operations24.py"
      ],
      "execution_count": null,
      "outputs": []
    },
    {
      "cell_type": "markdown",
      "metadata": {
        "id": "j0g7hp-kcsT3"
      },
      "source": [
        "## Intermezzo: string manipulations"
      ]
    },
    {
      "cell_type": "markdown",
      "metadata": {
        "id": "TlJqO5QDcsT3"
      },
      "source": [
        "Python strings have a lot of useful methods available to manipulate or check the content of the string:"
      ]
    },
    {
      "cell_type": "code",
      "metadata": {
        "collapsed": true,
        "id": "ixn4SLlocsT3"
      },
      "source": [
        "s = 'Bradwurst'"
      ],
      "execution_count": null,
      "outputs": []
    },
    {
      "cell_type": "code",
      "metadata": {
        "id": "3d3i8XGKcsT3"
      },
      "source": [
        "s.startswith('B')"
      ],
      "execution_count": null,
      "outputs": []
    },
    {
      "cell_type": "markdown",
      "metadata": {
        "id": "Mis0OgZwcsT3"
      },
      "source": [
        "In pandas, those methods (together with some additional methods) are also available for string Series through the `.str` accessor:"
      ]
    },
    {
      "cell_type": "code",
      "metadata": {
        "collapsed": true,
        "id": "ZP5DP6FecsT4"
      },
      "source": [
        "s = pd.Series(['Bradwurst', 'Kartoffelsalat', 'Sauerkraut'])"
      ],
      "execution_count": null,
      "outputs": []
    },
    {
      "cell_type": "code",
      "metadata": {
        "id": "zqMOB9_XcsT4"
      },
      "source": [
        "s.str.startswith('B')"
      ],
      "execution_count": null,
      "outputs": []
    },
    {
      "cell_type": "markdown",
      "metadata": {
        "id": "tk6nbBUgcsT4"
      },
      "source": [
        "For an overview of all string methods, see: http://pandas.pydata.org/pandas-docs/stable/api.html#string-handling"
      ]
    },
    {
      "cell_type": "markdown",
      "metadata": {
        "id": "O2puhz-YcsT4"
      },
      "source": [
        "<div class=\"alert alert-success\">\n",
        "    <b>EXERCISE</b>: We already plotted the number of 'Hamlet' films released each decade, but not all titles are exactly called 'Hamlet'. Give an overview of the titles that contain 'Hamlet', and that start with 'Hamlet':\n",
        "</div>"
      ]
    },
    {
      "cell_type": "code",
      "metadata": {
        "clear_cell": true,
        "id": "KE_i5TiRcsT4"
      },
      "source": [
        "# %load snippets/04b - Advanced groupby operations29.py"
      ],
      "execution_count": null,
      "outputs": []
    },
    {
      "cell_type": "code",
      "metadata": {
        "clear_cell": true,
        "id": "S4L0QCYkcsT4"
      },
      "source": [
        "# %load snippets/04b - Advanced groupby operations30.py"
      ],
      "execution_count": null,
      "outputs": []
    },
    {
      "cell_type": "markdown",
      "metadata": {
        "id": "t049YSS2csT5"
      },
      "source": [
        "<div class=\"alert alert-success\">\n",
        "    <b>EXERCISE</b>: List the 10 movie titles with the longest name.\n",
        "</div>"
      ]
    },
    {
      "cell_type": "code",
      "metadata": {
        "clear_cell": true,
        "id": "eEIm5FFDcsT5"
      },
      "source": [
        "# %load snippets/04b - Advanced groupby operations31.py"
      ],
      "execution_count": null,
      "outputs": []
    },
    {
      "cell_type": "code",
      "metadata": {
        "clear_cell": true,
        "id": "atPI2S21csT5"
      },
      "source": [
        "# %load snippets/04b - Advanced groupby operations32.py"
      ],
      "execution_count": null,
      "outputs": []
    },
    {
      "cell_type": "markdown",
      "metadata": {
        "id": "yUTu5im0csT5"
      },
      "source": [
        "## Value counts"
      ]
    },
    {
      "cell_type": "markdown",
      "metadata": {
        "id": "vw-U_9mEcsT5"
      },
      "source": [
        "A useful shortcut to calculate the number of occurences of certain values is `value_counts` (this is somewhat equivalent to `df.groupby(key).size())`)\n",
        "\n",
        "For example, what are the most occuring movie titles?"
      ]
    },
    {
      "cell_type": "code",
      "metadata": {
        "id": "WdGqT6BpcsT5"
      },
      "source": [
        "titles.title.value_counts().head()"
      ],
      "execution_count": null,
      "outputs": []
    },
    {
      "cell_type": "markdown",
      "metadata": {
        "id": "48tNjIhjcsT6"
      },
      "source": [
        "<div class=\"alert alert-success\">\n",
        "    <b>EXERCISE</b>: Which years saw the most films released?\n",
        "</div>"
      ]
    },
    {
      "cell_type": "code",
      "metadata": {
        "clear_cell": true,
        "id": "veEupOAScsT6"
      },
      "source": [
        "# %load snippets/04b - Advanced groupby operations34.py"
      ],
      "execution_count": null,
      "outputs": []
    },
    {
      "cell_type": "markdown",
      "metadata": {
        "id": "-AgkWi1ccsT6"
      },
      "source": [
        "<div class=\"alert alert-success\">\n",
        "    <b>EXERCISE</b>: Plot the number of released films over time\n",
        "</div>"
      ]
    },
    {
      "cell_type": "code",
      "metadata": {
        "clear_cell": true,
        "id": "HeaMv_WocsT6"
      },
      "source": [
        "# %load snippets/04b - Advanced groupby operations35.py"
      ],
      "execution_count": null,
      "outputs": []
    },
    {
      "cell_type": "markdown",
      "metadata": {
        "id": "xahSGLBycsT6"
      },
      "source": [
        "<div class=\"alert alert-success\">\n",
        "    <b>EXERCISE</b>: Plot the number of \"Hamlet\" films made each decade.\n",
        "</div>"
      ]
    },
    {
      "cell_type": "code",
      "metadata": {
        "clear_cell": true,
        "id": "QEi8OGi6csT6"
      },
      "source": [
        "# %load snippets/04b - Advanced groupby operations36.py"
      ],
      "execution_count": null,
      "outputs": []
    },
    {
      "cell_type": "markdown",
      "metadata": {
        "id": "aWcUNTk5csT6"
      },
      "source": [
        "<div class=\"alert alert-success\">\n",
        "    <b>EXERCISE</b>: What are the 11 most common character names in movie history?\n",
        "</div>"
      ]
    },
    {
      "cell_type": "code",
      "metadata": {
        "clear_cell": true,
        "id": "l5tnLvf-csT7"
      },
      "source": [
        "# %load snippets/04b - Advanced groupby operations37.py"
      ],
      "execution_count": null,
      "outputs": []
    },
    {
      "cell_type": "markdown",
      "metadata": {
        "id": "a3Va3t8IcsT7"
      },
      "source": [
        "<div class=\"alert alert-success\">\n",
        "    <b>EXERCISE</b>: Which actors or actresses appeared in the most movies in the year 2010?\n",
        "</div>"
      ]
    },
    {
      "cell_type": "code",
      "metadata": {
        "clear_cell": true,
        "id": "e33UuZVQcsT7"
      },
      "source": [
        "# %load snippets/04b - Advanced groupby operations38.py"
      ],
      "execution_count": null,
      "outputs": []
    },
    {
      "cell_type": "markdown",
      "metadata": {
        "id": "or-a1tW9csT7"
      },
      "source": [
        "<div class=\"alert alert-success\">\n",
        "    <b>EXERCISE</b>: Plot how many roles Brad Pitt has played in each year of his career.\n",
        "</div>"
      ]
    },
    {
      "cell_type": "code",
      "metadata": {
        "clear_cell": true,
        "id": "E7ClRsPjcsT7"
      },
      "source": [
        "# %load snippets/04b - Advanced groupby operations39.py"
      ],
      "execution_count": null,
      "outputs": []
    },
    {
      "cell_type": "markdown",
      "metadata": {
        "id": "8LkOa4vtcsT7"
      },
      "source": [
        "<div class=\"alert alert-success\">\n",
        "    <b>EXERCISE</b>: What are the 10 most film titles roles that start with the word \"The Life\"?\n",
        "</div>"
      ]
    },
    {
      "cell_type": "code",
      "metadata": {
        "clear_cell": true,
        "id": "rp3gzeDXcsT8"
      },
      "source": [
        "# %load snippets/04b - Advanced groupby operations40.py"
      ],
      "execution_count": null,
      "outputs": []
    },
    {
      "cell_type": "markdown",
      "metadata": {
        "id": "6H5onPNvcsT8"
      },
      "source": [
        "<div class=\"alert alert-success\">\n",
        "    <b>EXERCISE</b>: How many leading (n=1) roles were available to actors, and how many to actresses, in the 1950s? And in 2000s?\n",
        "</div>"
      ]
    },
    {
      "cell_type": "code",
      "metadata": {
        "clear_cell": true,
        "id": "KSDgy25dcsT8"
      },
      "source": [
        "# %load snippets/04b - Advanced groupby operations41.py"
      ],
      "execution_count": null,
      "outputs": []
    },
    {
      "cell_type": "code",
      "metadata": {
        "clear_cell": true,
        "id": "96G9Xu3YcsT8"
      },
      "source": [
        "# %load snippets/04b - Advanced groupby operations42.py"
      ],
      "execution_count": null,
      "outputs": []
    },
    {
      "cell_type": "code",
      "metadata": {
        "collapsed": true,
        "id": "QypyEJwFcsT8"
      },
      "source": [
        ""
      ],
      "execution_count": null,
      "outputs": []
    }
  ]
}
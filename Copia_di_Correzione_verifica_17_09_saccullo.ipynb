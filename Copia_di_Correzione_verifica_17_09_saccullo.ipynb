{
  "nbformat": 4,
  "nbformat_minor": 0,
  "metadata": {
    "colab": {
      "name": "Copia di Correzione verifica 17.09",
      "provenance": [],
      "include_colab_link": true
    },
    "kernelspec": {
      "name": "python3",
      "display_name": "Python 3"
    },
    "language_info": {
      "name": "python"
    }
  },
  "cells": [
    {
      "cell_type": "markdown",
      "metadata": {
        "id": "view-in-github",
        "colab_type": "text"
      },
      "source": [
        "<a href=\"https://colab.research.google.com/github/elshahat-khaled/Phyton/blob/main/Copia_di_Correzione_verifica_17_09_saccullo.ipynb\" target=\"_parent\"><img src=\"https://colab.research.google.com/assets/colab-badge.svg\" alt=\"Open In Colab\"/></a>"
      ]
    },
    {
      "cell_type": "markdown",
      "metadata": {
        "id": "Aw_lgWNBavid"
      },
      "source": [
        "Scrivere un programma che acquisisca dall'utente tre valori, calcoli la media e la visualizzi."
      ]
    },
    {
      "cell_type": "code",
      "metadata": {
        "id": "iJrW3fLJawla"
      },
      "source": [
        "a = int(input(\"Inserire il primo valore: \"))\n",
        "b = int(input(\"Inserire il secondo valore: \"))\n",
        "c = int(input(\"Inserire il terzo valore: \"))\n",
        "sum = a + b + c\n",
        "media = sum/3\n",
        "print (media)"
      ],
      "execution_count": null,
      "outputs": []
    },
    {
      "cell_type": "markdown",
      "metadata": {
        "id": "HCOpM-uPa16h"
      },
      "source": [
        "Scrivere un programma che acquisisca dall'utente il raggio di un cerchio, calcoli il valore dell'area del cerchio e la visualizzi con due cifre decimali."
      ]
    },
    {
      "cell_type": "code",
      "metadata": {
        "id": "ljNBvB9fa4Q1"
      },
      "source": [
        "import math\n",
        "r = int(input(\"Inserire il raggio: \"))    \n",
        "area = r**2*math.pi\n",
        "print(\"Area  = %.2f\" %area)\n",
        "print(round(area,2))"
      ],
      "execution_count": null,
      "outputs": []
    },
    {
      "cell_type": "markdown",
      "metadata": {
        "id": "ob1E0l3wa6ff"
      },
      "source": [
        "Scrivere un programma che acquisisca dall’utente il suo nome e il suo cognome e visualizzi il messaggio “Ciao <nome> <cognome>” con solo le iniziali del nome e del cognome in maiuscolo anche se l’utente ha scritto i dati tutti in maiuscolo, in minuscolo, in modo alternato e così via."
      ]
    },
    {
      "cell_type": "code",
      "metadata": {
        "id": "5666QWvMa9NA"
      },
      "source": [
        "nome = input(\"Inserire il nome: \")\n",
        "cognome = input(\"Inserire il cognome: \")\n",
        "print(\"Ciao\", nome.capitalize(), cognome.capitalize())"
      ],
      "execution_count": null,
      "outputs": []
    },
    {
      "cell_type": "markdown",
      "metadata": {
        "id": "2MHkdK-5bAfH"
      },
      "source": [
        "Scrivere un programma che acquisisca dall’utente una frase e conti il numero di parole presenti."
      ]
    },
    {
      "cell_type": "code",
      "metadata": {
        "id": "MgQNYuAEbG6P"
      },
      "source": [
        "print(len(input(\"Scrivere una frase: \").split())) #len() = Length of a list."
      ],
      "execution_count": null,
      "outputs": []
    },
    {
      "cell_type": "markdown",
      "metadata": {
        "id": "LoF5mteDbLgI"
      },
      "source": [
        "Scrivere un programma che acquisisca dall’utente una frase e visualizzi le parole presenti in ordine alfabetico."
      ]
    },
    {
      "cell_type": "code",
      "metadata": {
        "id": "X2Z-GurQbOM_"
      },
      "source": [
        "frase = input(\"Scrivere una frase: \")\n",
        "elenco = frase.split()\n",
        "elenco.sort()\n",
        "print(elenco)"
      ],
      "execution_count": null,
      "outputs": []
    },
    {
      "cell_type": "markdown",
      "metadata": {
        "id": "wFnE4FgwbO3U"
      },
      "source": [
        "Scrivere un programma che acquisisca dall’utente una frase e visualizzi le ultime tre parole."
      ]
    },
    {
      "cell_type": "code",
      "metadata": {
        "id": "b3yddm2KbRX-"
      },
      "source": [
        "frase = input(\"Scrivere una frase: \")\n",
        "elenco = frase.split()\n",
        "print(elenco[-3:])"
      ],
      "execution_count": null,
      "outputs": []
    },
    {
      "cell_type": "markdown",
      "metadata": {
        "id": "2CD--xTdbUMt"
      },
      "source": [
        "Scrivere un programma che acquisisca dall’utente una frase e visualizzi il messaggio “troppo corta” se ha meno di 5 parole, “troppo lunga” se ha più di 10 parole e “ok” se ha un numero di parole compreso tra 6 e 9."
      ]
    },
    {
      "cell_type": "code",
      "metadata": {
        "id": "R9FtXhADbYAA"
      },
      "source": [
        "frase = input(\"Scrivere una frase: \")\n",
        "elenco = frase.split()\n",
        "if len(elenco) <= 5:\n",
        "  print(\"Troppo corta.\")\n",
        "elif len(elenco) >= 10:\n",
        "    print(\"Troppo lunga.\")\n",
        "else:\n",
        "  print(\"OK\")"
      ],
      "execution_count": null,
      "outputs": []
    },
    {
      "cell_type": "markdown",
      "metadata": {
        "id": "wALklhbpbYtL"
      },
      "source": [
        "Scrivere un programma che permetta di acquisire 10 numeri interi e che ne visualizzi la media. Non usare 10 variabili per memorizzare i 10 valori."
      ]
    },
    {
      "cell_type": "code",
      "metadata": {
        "id": "dIyiRqSNbbs1"
      },
      "source": [
        "sum = 0\n",
        "media = 0\n",
        "for numero in range(10):\n",
        "    n = int(input(\"Inserire 10 numeri interi: \"))\n",
        "    sum+=n\n",
        "media = sum/10\n",
        "print(media)"
      ],
      "execution_count": null,
      "outputs": []
    },
    {
      "cell_type": "markdown",
      "metadata": {
        "id": "ojKVXbNQbgZO"
      },
      "source": [
        "Scrivere una funzione che restituisca True se un numero è pari, False altrimenti. Utilizzare la funzione per scrivere un programma che permetta di acquisire un numero e, usando la funzione, visualizzi il messaggio “pari” se il numero inserito è pari, “dispari” altrimenti."
      ]
    },
    {
      "cell_type": "code",
      "metadata": {
        "id": "LsztP1aPbhFw"
      },
      "source": [
        "def risultato(n):\n",
        "  if n%2==0:\n",
        "    return True\n",
        "  else:\n",
        "    return False\n",
        "num = int(input(\"Inserire un numero: \"))\n",
        "if(risultato(num)):\n",
        "  print(\"Pari.\")\n",
        "else:\n",
        "  print(\"Dispari.\")"
      ],
      "execution_count": null,
      "outputs": []
    }
  ]
}
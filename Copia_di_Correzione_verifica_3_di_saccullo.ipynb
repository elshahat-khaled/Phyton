{
  "nbformat": 4,
  "nbformat_minor": 0,
  "metadata": {
    "colab": {
      "name": "Copia di Correzione verifica 3",
      "provenance": [],
      "collapsed_sections": [],
      "include_colab_link": true
    },
    "kernelspec": {
      "name": "python3",
      "display_name": "Python 3"
    },
    "language_info": {
      "name": "python"
    }
  },
  "cells": [
    {
      "cell_type": "markdown",
      "metadata": {
        "id": "view-in-github",
        "colab_type": "text"
      },
      "source": [
        "<a href=\"https://colab.research.google.com/github/elshahat-khaled/Phyton/blob/main/Copia_di_Correzione_verifica_3_di_saccullo.ipynb\" target=\"_parent\"><img src=\"https://colab.research.google.com/assets/colab-badge.svg\" alt=\"Open In Colab\"/></a>"
      ]
    },
    {
      "cell_type": "markdown",
      "metadata": {
        "id": "YyR4vULWKKYD"
      },
      "source": [
        "Scrivere un programma che permetta all'utente di inserire le coordinate di due punti del piano cartesiano e di calcolare la distanza tra i due punti."
      ]
    },
    {
      "cell_type": "code",
      "metadata": {
        "id": "fY1eTEyxKSY6"
      },
      "source": [
        "import math\n",
        "x, y = int(input(\"Inserire la prima x: \")), int(input(\"Inserire la prima y: \"))\n",
        "x1, y1 = int(input(\"Inserire la seconda x: \")), int(input(\"Inserire la seconda y: \"))\n",
        "print(math.sqrt((x1-x)**2 + (y1-y)**2))"
      ],
      "execution_count": null,
      "outputs": []
    },
    {
      "cell_type": "markdown",
      "metadata": {
        "id": "XOvLwixjLRNc"
      },
      "source": [
        "Scrivere un programma che date le lunghezze di tre lati, dica se è possibile costruire un triangolo con i dati di quella lunghezza."
      ]
    },
    {
      "cell_type": "code",
      "metadata": {
        "id": "XeyukbTULXhj"
      },
      "source": [
        "x, y, z = int(input(\"Inserire il primo lato: \")), int(input(\"Inserire il secondo lato: \")), int(input(\"Inserire il terzo lato: \"))\n",
        "if x+y > z and x+z > y and z+y > x:\n",
        "  print(\"Sì, è un triangolo.\")\n",
        "else:\n",
        "  print(\"No, non è un triangolo.\")"
      ],
      "execution_count": null,
      "outputs": []
    },
    {
      "cell_type": "markdown",
      "metadata": {
        "id": "ki18xabmLpD7"
      },
      "source": [
        "Scrivere un programma che permetta all'utente di inserire una lista di numeri interi ed un valore e che carichi in un'altra lista gli elementi fino a che non incontra quel valore nella lista. Se il valore non è presente, deve caricare tutta la lista."
      ]
    },
    {
      "cell_type": "code",
      "metadata": {
        "id": "ukupuU8mMBG1"
      },
      "source": [
        "lst = [int(n) for n in input(\"Inserire i numeri: \").split()]\n",
        "val = int(input(\"Inserire un valore: \"))\n",
        "i = 0\n",
        "lst1 = []\n",
        "while i < len(lst) and val != lst[i]:\n",
        "  lst1.append(lst[i])\n",
        "  i += 1\n",
        "print(lst)\n",
        "print(lst1)"
      ],
      "execution_count": null,
      "outputs": []
    },
    {
      "cell_type": "markdown",
      "metadata": {
        "id": "tOabcQe4MLFL"
      },
      "source": [
        "Scrivere un programma che permetta all'utente di inserire una lista di numeri interi e dica se la lista contiene numeri duplicati o no."
      ]
    },
    {
      "cell_type": "code",
      "metadata": {
        "id": "-IheOHKiMjtk"
      },
      "source": [
        "lst = [int(n) for n in input(\"Inserire i numeri: \").split()]\n",
        "if len(lst) == len(set(lst)):\n",
        "  print(\"La lista non contiene duplicati.\")\n",
        "else:\n",
        "  print(\"La lista contiene duplicati.\")\n",
        "print(set(lst))"
      ],
      "execution_count": null,
      "outputs": []
    },
    {
      "cell_type": "markdown",
      "metadata": {
        "id": "GBnngrROMkME"
      },
      "source": [
        "Scrivere un programma che permetta all'utente di suddividere una lista in due parti. L'utente inserisce la lista e la posizione in cui vuole che avvenga la suddivisione. Al termine, visualizzare le due liste."
      ]
    },
    {
      "cell_type": "code",
      "metadata": {
        "id": "xG4iOfrJN9t9"
      },
      "source": [
        "lst = [(n) for n in input(\"Inserire i valori: \").split()]\n",
        "sudd = int(input(\"Dove deve avvenire la suddivisione? \"))\n",
        "lst2 = lst[sudd:]\n",
        "lst3 = lst[:sudd]\n",
        "print(lst2)\n",
        "print(lst3)"
      ],
      "execution_count": null,
      "outputs": []
    },
    {
      "cell_type": "markdown",
      "metadata": {
        "id": "VR_BQ_Q3N9_7"
      },
      "source": [
        "Scrivere un programma che permetta di stabilire se una lista è contenuta in un'altra. Il programma deve visualizzare True se la prima lista contiene la seconda, False altrimenti."
      ]
    },
    {
      "cell_type": "code",
      "metadata": {
        "id": "Jk8dub5KOM_L"
      },
      "source": [
        "lst = [int(n) for n in input(\"Inserire i numeri nella prima lista: \").split()]\n",
        "lst2 = [int(n) for n in input(\"Inserire i numeri nella seconda lista: \").split()]\n",
        "set_lst = set(lst)\n",
        "set_lst2 = set(lst2)\n",
        "output = False if (set_lst.intersection(set_lst2) == set()) else True # intersection() returns a set that contains the items that exist in both set_lst and set_lst2\n",
        "print(output)"
      ],
      "execution_count": null,
      "outputs": []
    },
    {
      "cell_type": "markdown",
      "metadata": {
        "id": "4uuCCzUMOqqE"
      },
      "source": [
        "Scrivere un programma che carichi in un dizionario la tabellina (da 1 a 10) di un numero inserito dall'utente. Al termine, visualizzare il dizionario."
      ]
    },
    {
      "cell_type": "code",
      "metadata": {
        "id": "ygOHMSnbO1AL"
      },
      "source": [
        "num = int(input(\"Inserire un valore: \"))\n",
        "d1 = {}\n",
        "for i in range(1, 11):\n",
        "    d1[str(i)] = num*i # ciò che viene messo dopo l'uguale, fa parte dei valori all'interno del dizionario\n",
        "print(d1)"
      ],
      "execution_count": null,
      "outputs": []
    },
    {
      "cell_type": "markdown",
      "metadata": {
        "id": "68XODSpTPPLV"
      },
      "source": [
        "Scrivere un programma che permetta all'utente di inserire una frase e che crei un dizionario avente come chiavi le parole che compongono la frase e come valore il numero di volte che ogni parola compare. Al termine, visualizzare il messaggio \"la parola < parola > compare < numero > volte\" per ogni parola presente nel dizionario."
      ]
    },
    {
      "cell_type": "code",
      "metadata": {
        "id": "NcQzoogyRQQl"
      },
      "source": [
        "import collections\n",
        "frase = str(input(\"Inserire una frase: \"))\n",
        "parole = frase.split()\n",
        "parole_count = collections.Counter(parole)\n",
        "for parole, count in parole_count.items():\n",
        "    print('La parola \"%s\" compare %d volte.' % (parole, count))"
      ],
      "execution_count": null,
      "outputs": []
    },
    {
      "cell_type": "markdown",
      "metadata": {
        "id": "z_aMTYsZRqRe"
      },
      "source": [
        "Una lista contiene i voti di informatica degli studenti di una classe:\n",
        "\n",
        "[{'cognome': 'Bianchi', 'voto': 6}, {'cognome': 'Neri', 'voto': 8}, {'cognome': 'Gialli', 'voto': 3}, {'cognome': 'Rossi', voto: 4}, {'cognome': 'Verdi', 'voto': 10}]. Scrivere un programma che visualizzi il cognome degli studenti sufficienti."
      ]
    },
    {
      "cell_type": "code",
      "metadata": {
        "id": "8bBSstHIRrxM"
      },
      "source": [
        "lst = [{'cognome': 'Bianchi', 'voto': 6}, {'cognome': 'Neri', 'voto': 8}, {'cognome': 'Gialli', 'voto': 3}, {'cognome': 'Rossi', 'voto': 4}, {'cognome': 'Verdi', 'voto': 10}]\n",
        "for i in lst:\n",
        "  if i['voto'] >= 6:\n",
        "        print(\"Studente sufficiente: \", i[\"cognome\"])"
      ],
      "execution_count": null,
      "outputs": []
    }
  ]
}
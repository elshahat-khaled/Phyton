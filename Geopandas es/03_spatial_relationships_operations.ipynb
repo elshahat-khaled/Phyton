{
  "cells": [
    {
      "cell_type": "markdown",
      "metadata": {
        "id": "i_TwQY7xgYpc"
      },
      "source": [
        "# Spatial relationships and operations"
      ]
    },
    {
      "cell_type": "code",
      "source": [
        "!pip install geopandas"
      ],
      "metadata": {
        "colab": {
          "base_uri": "https://localhost:8080/"
        },
        "id": "UJoMaAoygiYP",
        "outputId": "155bb776-c234-4796-a08e-cbf5047a171e"
      },
      "execution_count": null,
      "outputs": [
        {
          "output_type": "stream",
          "name": "stdout",
          "text": [
            "Requirement already satisfied: geopandas in /usr/local/lib/python3.7/dist-packages (0.10.2)\n",
            "Requirement already satisfied: shapely>=1.6 in /usr/local/lib/python3.7/dist-packages (from geopandas) (1.8.0)\n",
            "Requirement already satisfied: fiona>=1.8 in /usr/local/lib/python3.7/dist-packages (from geopandas) (1.8.20)\n",
            "Requirement already satisfied: pandas>=0.25.0 in /usr/local/lib/python3.7/dist-packages (from geopandas) (1.1.5)\n",
            "Requirement already satisfied: pyproj>=2.2.0 in /usr/local/lib/python3.7/dist-packages (from geopandas) (3.2.1)\n",
            "Requirement already satisfied: attrs>=17 in /usr/local/lib/python3.7/dist-packages (from fiona>=1.8->geopandas) (21.4.0)\n",
            "Requirement already satisfied: certifi in /usr/local/lib/python3.7/dist-packages (from fiona>=1.8->geopandas) (2021.10.8)\n",
            "Requirement already satisfied: click>=4.0 in /usr/local/lib/python3.7/dist-packages (from fiona>=1.8->geopandas) (7.1.2)\n",
            "Requirement already satisfied: munch in /usr/local/lib/python3.7/dist-packages (from fiona>=1.8->geopandas) (2.5.0)\n",
            "Requirement already satisfied: cligj>=0.5 in /usr/local/lib/python3.7/dist-packages (from fiona>=1.8->geopandas) (0.7.2)\n",
            "Requirement already satisfied: click-plugins>=1.0 in /usr/local/lib/python3.7/dist-packages (from fiona>=1.8->geopandas) (1.1.1)\n",
            "Requirement already satisfied: six>=1.7 in /usr/local/lib/python3.7/dist-packages (from fiona>=1.8->geopandas) (1.15.0)\n",
            "Requirement already satisfied: setuptools in /usr/local/lib/python3.7/dist-packages (from fiona>=1.8->geopandas) (57.4.0)\n",
            "Requirement already satisfied: python-dateutil>=2.7.3 in /usr/local/lib/python3.7/dist-packages (from pandas>=0.25.0->geopandas) (2.8.2)\n",
            "Requirement already satisfied: pytz>=2017.2 in /usr/local/lib/python3.7/dist-packages (from pandas>=0.25.0->geopandas) (2018.9)\n",
            "Requirement already satisfied: numpy>=1.15.4 in /usr/local/lib/python3.7/dist-packages (from pandas>=0.25.0->geopandas) (1.19.5)\n"
          ]
        }
      ]
    },
    {
      "cell_type": "code",
      "execution_count": null,
      "metadata": {
        "id": "zSA-R2mbgYpi"
      },
      "outputs": [],
      "source": [
        "%matplotlib inline\n",
        "\n",
        "import pandas as pd\n",
        "import geopandas"
      ]
    },
    {
      "cell_type": "code",
      "source": [
        "from google.colab import drive\n",
        "drive.mount('/content/drive')"
      ],
      "metadata": {
        "colab": {
          "base_uri": "https://localhost:8080/"
        },
        "id": "lvlSCiw8go8E",
        "outputId": "5102a121-d3ea-4b36-f147-6b88067c33da"
      },
      "execution_count": null,
      "outputs": [
        {
          "output_type": "stream",
          "name": "stdout",
          "text": [
            "Drive already mounted at /content/drive; to attempt to forcibly remount, call drive.mount(\"/content/drive\", force_remount=True).\n"
          ]
        }
      ]
    },
    {
      "cell_type": "code",
      "execution_count": null,
      "metadata": {
        "id": "U_1hGLnXgYpk"
      },
      "outputs": [],
      "source": [
        "countries = geopandas.read_file(\"/content/drive/MyDrive/Colab Notebooks/geopandas-tutorial-master/data/ne_110m_admin_0_countries.zip\")\n",
        "cities = geopandas.read_file(\"/content/drive/MyDrive/Colab Notebooks/geopandas-tutorial-master/data/ne_110m_populated_places.zip\")\n",
        "rivers = geopandas.read_file(\"/content/drive/MyDrive/Colab Notebooks/geopandas-tutorial-master/data/ne_50m_rivers_lake_centerlines.zip\")"
      ]
    },
    {
      "cell_type": "markdown",
      "metadata": {
        "id": "fOKmMbS2gYpl"
      },
      "source": [
        "## Spatial relationships\n",
        "\n",
        "An important aspect of geospatial data is that we can look at *spatial relationships*: how two spatial objects relate to each other (whether they overlap, intersect, contain, .. one another).\n",
        "\n",
        "The topological, set-theoretic relationships in GIS are typically based on the DE-9IM model. See https://en.wikipedia.org/wiki/Spatial_relation for more information.\n",
        "\n",
        "![](img/TopologicSpatialRelarions2.png)\n",
        "(Image by [Krauss, CC BY-SA 3.0](https://en.wikipedia.org/wiki/Spatial_relation#/media/File:TopologicSpatialRelarions2.png))"
      ]
    },
    {
      "cell_type": "markdown",
      "metadata": {
        "id": "nIhZi6y7gYpl"
      },
      "source": [
        "### Relationships between individual objects"
      ]
    },
    {
      "cell_type": "markdown",
      "metadata": {
        "id": "xTxUV1rBgYpm"
      },
      "source": [
        "Let's first create some small toy spatial objects:\n",
        "\n",
        "A polygon <small>(note: we use `.squeeze()` here to to extract the scalar geometry object from the GeoSeries of length 1)</small>:"
      ]
    },
    {
      "cell_type": "code",
      "execution_count": null,
      "metadata": {
        "id": "SQwylc87gYpn",
        "colab": {
          "base_uri": "https://localhost:8080/",
          "height": 122
        },
        "outputId": "772bc0a3-ce80-42b7-a1c8-06961a439e09"
      },
      "outputs": [
        {
          "output_type": "execute_result",
          "data": {
            "text/plain": [
              "<shapely.geometry.polygon.Polygon at 0x7f4196263550>"
            ],
            "image/svg+xml": "<svg xmlns=\"http://www.w3.org/2000/svg\" xmlns:xlink=\"http://www.w3.org/1999/xlink\" width=\"100.0\" height=\"100.0\" viewBox=\"2.3678496272976077 49.383760142609 3.9345319336096796 2.2369869710376378\" preserveAspectRatio=\"xMinYMin meet\"><g transform=\"matrix(1,0,0,-1,0,101.00450725625564)\"><path fill-rule=\"evenodd\" fill=\"#66cc99\" stroke=\"#555555\" stroke-width=\"0.07869063867219359\" opacity=\"0.6\" d=\"M 4.047071160507528,51.26725861266857 L 4.973991326526914,51.47502370869813 L 5.606975945670001,51.03729848896978 L 6.15665815595878,50.80372101501058 L 6.043073357781111,50.128051662794235 L 5.782417433300907,50.09032786722122 L 5.674051954784829,49.529483547557504 L 4.799221632515696,49.98537303323636 L 4.2860229834250845,49.907496649772554 L 3.588184441755658,50.37899241800352 L 3.1232515804256593,50.78036326761455 L 2.658422071960274,50.796848049515745 L 2.5135730322461143,51.148506171261886 L 3.3149711442285366,51.345780951536085 L 3.3150114849641596,51.34577662473805 L 3.3149711442285366,51.34575511331991 L 4.047071160507528,51.26725861266857 z\" /></g></svg>"
          },
          "metadata": {},
          "execution_count": 7
        }
      ],
      "source": [
        "belgium = countries.loc[countries['name'] == 'Belgium', 'geometry'].squeeze()\n",
        "belgium"
      ]
    },
    {
      "cell_type": "markdown",
      "metadata": {
        "id": "nLYSGdMBgYpo"
      },
      "source": [
        "Two points:"
      ]
    },
    {
      "cell_type": "code",
      "execution_count": null,
      "metadata": {
        "id": "BYvSmI5ygYpp"
      },
      "outputs": [],
      "source": [
        "paris = cities.loc[cities['name'] == 'Paris', 'geometry'].squeeze()\n",
        "brussels = cities.loc[cities['name'] == 'Brussels', 'geometry'].squeeze()"
      ]
    },
    {
      "cell_type": "code",
      "source": [
        "paris"
      ],
      "metadata": {
        "colab": {
          "base_uri": "https://localhost:8080/",
          "height": 122
        },
        "id": "Bwc4vRBb4bNn",
        "outputId": "a9ab0579-5007-4b97-834d-bef1246e2d21"
      },
      "execution_count": null,
      "outputs": [
        {
          "output_type": "execute_result",
          "data": {
            "text/plain": [
              "<shapely.geometry.point.Point at 0x7f41962995d0>"
            ],
            "image/svg+xml": "<svg xmlns=\"http://www.w3.org/2000/svg\" xmlns:xlink=\"http://www.w3.org/1999/xlink\" width=\"100.0\" height=\"100.0\" viewBox=\"1.3313894671303501 47.86863878981461 2.0 2.0\" preserveAspectRatio=\"xMinYMin meet\"><g transform=\"matrix(1,0,0,-1,0,97.73727757962922)\"><circle cx=\"2.33138946713035\" cy=\"48.86863878981461\" r=\"0.06\" stroke=\"#555555\" stroke-width=\"0.02\" fill=\"#66cc99\" opacity=\"0.6\" /></g></svg>"
          },
          "metadata": {},
          "execution_count": 9
        }
      ]
    },
    {
      "cell_type": "markdown",
      "metadata": {
        "id": "L5UmLBnNgYpq"
      },
      "source": [
        "And a linestring:"
      ]
    },
    {
      "cell_type": "code",
      "execution_count": null,
      "metadata": {
        "id": "ufJRPoGLgYpr",
        "colab": {
          "base_uri": "https://localhost:8080/",
          "height": 122
        },
        "outputId": "24f24305-418e-47c9-e32d-fdaa54ab791f"
      },
      "outputs": [
        {
          "output_type": "execute_result",
          "data": {
            "text/plain": [
              "<shapely.geometry.linestring.LineString at 0x7f4196220dd0>"
            ],
            "image/svg+xml": "<svg xmlns=\"http://www.w3.org/2000/svg\" xmlns:xlink=\"http://www.w3.org/1999/xlink\" width=\"100.0\" height=\"100.0\" viewBox=\"2.251390215827946 48.78863953851221 2.1599797851649076 2.1266226481205166\" preserveAspectRatio=\"xMinYMin meet\"><g transform=\"matrix(1,0,0,-1,0,99.70390172514493)\"><polyline fill=\"none\" stroke=\"#66cc99\" stroke-width=\"0.04319959570329815\" points=\"2.33138946713035,48.86863878981461 4.33137074969045,50.83526293533032\" opacity=\"0.8\" /></g></svg>"
          },
          "metadata": {},
          "execution_count": 10
        }
      ],
      "source": [
        "from shapely.geometry import LineString\n",
        "line = LineString([paris, brussels])\n",
        "line"
      ]
    },
    {
      "cell_type": "markdown",
      "metadata": {
        "id": "RlTVDoLAgYpr"
      },
      "source": [
        "Let's visualize those 4 geometry objects together (I only put them in a GeoSeries to easily display them together with the geopandas `.plot()` method):"
      ]
    },
    {
      "cell_type": "code",
      "execution_count": null,
      "metadata": {
        "id": "MYc7GuG-gYps",
        "colab": {
          "base_uri": "https://localhost:8080/",
          "height": 283
        },
        "outputId": "7416d10f-1f97-45d2-f4d0-aead5da84f85"
      },
      "outputs": [
        {
          "output_type": "execute_result",
          "data": {
            "text/plain": [
              "<matplotlib.axes._subplots.AxesSubplot at 0x7f41a639fe50>"
            ]
          },
          "metadata": {},
          "execution_count": 11
        },
        {
          "output_type": "display_data",
          "data": {
            "image/png": "[encoded data removed]",
            "text/plain": [
              "<Figure size 432x288 with 1 Axes>"
            ]
          },
          "metadata": {
            "needs_background": "light"
          }
        }
      ],
      "source": [
        "geopandas.GeoSeries([belgium, paris, brussels, line]).plot(cmap='tab10')"
      ]
    },
    {
      "cell_type": "markdown",
      "metadata": {
        "id": "h88UGzpxgYps"
      },
      "source": [
        "You can recognize the abstract shape of Belgium.\n",
        "\n",
        "Brussels, the capital of Belgium, is thus located within Belgium. This is a spatial relationship, and we can test this using the individual shapely geometry objects as follow:"
      ]
    },
    {
      "cell_type": "code",
      "execution_count": null,
      "metadata": {
        "id": "40gUw5-ngYpt",
        "colab": {
          "base_uri": "https://localhost:8080/"
        },
        "outputId": "085eaa04-3a99-4965-b3c1-f07af30dd148"
      },
      "outputs": [
        {
          "output_type": "execute_result",
          "data": {
            "text/plain": [
              "True"
            ]
          },
          "metadata": {},
          "execution_count": 12
        }
      ],
      "source": [
        "brussels.within(belgium)"
      ]
    },
    {
      "cell_type": "markdown",
      "metadata": {
        "id": "WGushOJ-gYpt"
      },
      "source": [
        "And using the reverse, Belgium contains Brussels:"
      ]
    },
    {
      "cell_type": "code",
      "execution_count": null,
      "metadata": {
        "id": "t8QMBladgYpt",
        "colab": {
          "base_uri": "https://localhost:8080/"
        },
        "outputId": "75747931-72cb-4eff-b6ac-340a7c836115"
      },
      "outputs": [
        {
          "output_type": "execute_result",
          "data": {
            "text/plain": [
              "True"
            ]
          },
          "metadata": {},
          "execution_count": 13
        }
      ],
      "source": [
        "belgium.contains(brussels)"
      ]
    },
    {
      "cell_type": "markdown",
      "metadata": {
        "id": "EOrudEXKgYpu"
      },
      "source": [
        "On the other hand, Paris is not located in Belgium:"
      ]
    },
    {
      "cell_type": "code",
      "execution_count": null,
      "metadata": {
        "id": "EvVW72TGgYpu",
        "colab": {
          "base_uri": "https://localhost:8080/"
        },
        "outputId": "0abd267b-5d78-4cb5-82fe-04ee1c338106"
      },
      "outputs": [
        {
          "output_type": "execute_result",
          "data": {
            "text/plain": [
              "False"
            ]
          },
          "metadata": {},
          "execution_count": 14
        }
      ],
      "source": [
        "belgium.contains(paris)"
      ]
    },
    {
      "cell_type": "code",
      "execution_count": null,
      "metadata": {
        "id": "WAMrHEeEgYpu",
        "colab": {
          "base_uri": "https://localhost:8080/"
        },
        "outputId": "8876b2bf-7809-4670-f096-c850550ec14d"
      },
      "outputs": [
        {
          "output_type": "execute_result",
          "data": {
            "text/plain": [
              "False"
            ]
          },
          "metadata": {},
          "execution_count": 15
        }
      ],
      "source": [
        "paris.within(belgium)"
      ]
    },
    {
      "cell_type": "markdown",
      "metadata": {
        "id": "8PuQUERegYpv"
      },
      "source": [
        "The straight line we draw from Paris to Brussels is not fully located within Belgium, but it does intersect with it:"
      ]
    },
    {
      "cell_type": "code",
      "execution_count": null,
      "metadata": {
        "id": "RLeBZpPIgYpv",
        "colab": {
          "base_uri": "https://localhost:8080/"
        },
        "outputId": "e1b2bd5f-10d9-4cc3-dbc1-fc3607271f02"
      },
      "outputs": [
        {
          "output_type": "execute_result",
          "data": {
            "text/plain": [
              "False"
            ]
          },
          "metadata": {},
          "execution_count": 16
        }
      ],
      "source": [
        "belgium.contains(line)"
      ]
    },
    {
      "cell_type": "code",
      "execution_count": null,
      "metadata": {
        "id": "0oQQdB6KgYpv",
        "colab": {
          "base_uri": "https://localhost:8080/"
        },
        "outputId": "b5fe911f-2840-4f7b-dc1a-9b0f3f806750"
      },
      "outputs": [
        {
          "output_type": "execute_result",
          "data": {
            "text/plain": [
              "True"
            ]
          },
          "metadata": {},
          "execution_count": 17
        }
      ],
      "source": [
        "line.intersects(belgium)"
      ]
    },
    {
      "cell_type": "markdown",
      "metadata": {
        "id": "bS_9klnpgYpw"
      },
      "source": [
        "### Spatial relationships with GeoDataFrames\n",
        "\n",
        "The same methods that are available on individual `shapely` geometries as we have seen above, are also available as methods on `GeoSeries` / `GeoDataFrame` objects.\n",
        "\n",
        "For example, if we call the `contains` method on the world dataset with the `paris` point, it will do this spatial check for each country in the `world` dataframe:"
      ]
    },
    {
      "cell_type": "code",
      "execution_count": null,
      "metadata": {
        "id": "yiAbDcqAgYpw",
        "colab": {
          "base_uri": "https://localhost:8080/"
        },
        "outputId": "9bcd61f3-4ab4-449f-bc64-769e781611c9"
      },
      "outputs": [
        {
          "output_type": "execute_result",
          "data": {
            "text/plain": [
              "0      False\n",
              "1      False\n",
              "2      False\n",
              "3      False\n",
              "4      False\n",
              "       ...  \n",
              "172    False\n",
              "173    False\n",
              "174    False\n",
              "175    False\n",
              "176    False\n",
              "Length: 177, dtype: bool"
            ]
          },
          "metadata": {},
          "execution_count": 18
        }
      ],
      "source": [
        "countries.contains(paris)"
      ]
    },
    {
      "cell_type": "markdown",
      "metadata": {
        "id": "Rz_veLF_gYpw"
      },
      "source": [
        "Because the above gives us a boolean result, we can use that to filter the dataframe:"
      ]
    },
    {
      "cell_type": "code",
      "execution_count": null,
      "metadata": {
        "id": "g3qeqAb_gYpw",
        "colab": {
          "base_uri": "https://localhost:8080/",
          "height": 81
        },
        "outputId": "b9815a14-3fae-4cef-96e6-4aaedf6f747b"
      },
      "outputs": [
        {
          "output_type": "execute_result",
          "data": {
            "text/html": [
              "\n",
              "  <div id=\"df-fed0d58e-dd1b-411a-ab3f-cb78f5a7243f\">\n",
              "    <div class=\"colab-df-container\">\n",
              "      <div>\n",
              "<style scoped>\n",
              "    .dataframe tbody tr th:only-of-type {\n",
              "        vertical-align: middle;\n",
              "    }\n",
              "\n",
              "    .dataframe tbody tr th {\n",
              "        vertical-align: top;\n",
              "    }\n",
              "\n",
              "    .dataframe thead th {\n",
              "        text-align: right;\n",
              "    }\n",
              "</style>\n",
              "<table border=\"1\" class=\"dataframe\">\n",
              "  <thead>\n",
              "    <tr style=\"text-align: right;\">\n",
              "      <th></th>\n",
              "      <th>iso_a3</th>\n",
              "      <th>name</th>\n",
              "      <th>continent</th>\n",
              "      <th>pop_est</th>\n",
              "      <th>gdp_md_est</th>\n",
              "      <th>geometry</th>\n",
              "    </tr>\n",
              "  </thead>\n",
              "  <tbody>\n",
              "    <tr>\n",
              "      <th>55</th>\n",
              "      <td>FRA</td>\n",
              "      <td>France</td>\n",
              "      <td>Europe</td>\n",
              "      <td>67106161.0</td>\n",
              "      <td>2699000.0</td>\n",
              "      <td>MULTIPOLYGON (((2.51357 51.14851, 2.65842 50.7...</td>\n",
              "    </tr>\n",
              "  </tbody>\n",
              "</table>\n",
              "</div>\n",
              "      <button class=\"colab-df-convert\" onclick=\"convertToInteractive('df-fed0d58e-dd1b-411a-ab3f-cb78f5a7243f')\"\n",
              "              title=\"Convert this dataframe to an interactive table.\"\n",
              "              style=\"display:none;\">\n",
              "        \n",
              "  <svg xmlns=\"http://www.w3.org/2000/svg\" height=\"24px\"viewBox=\"0 0 24 24\"\n",
              "       width=\"24px\">\n",
              "    <path d=\"M0 0h24v24H0V0z\" fill=\"none\"/>\n",
              "    <path d=\"M18.56 5.44l.94 2.06.94-2.06 2.06-.94-2.06-.94-.94-2.06-.94 2.06-2.06.94zm-11 1L8.5 8.5l.94-2.06 2.06-.94-2.06-.94L8.5 2.5l-.94 2.06-2.06.94zm10 10l.94 2.06.94-2.06 2.06-.94-2.06-.94-.94-2.06-.94 2.06-2.06.94z\"/><path d=\"M17.41 7.96l-1.37-1.37c-.4-.4-.92-.59-1.43-.59-.52 0-1.04.2-1.43.59L10.3 9.45l-7.72 7.72c-.78.78-.78 2.05 0 2.83L4 21.41c.39.39.9.59 1.41.59.51 0 1.02-.2 1.41-.59l7.78-7.78 2.81-2.81c.8-.78.8-2.07 0-2.86zM5.41 20L4 18.59l7.72-7.72 1.47 1.35L5.41 20z\"/>\n",
              "  </svg>\n",
              "      </button>\n",
              "      \n",
              "  <style>\n",
              "    .colab-df-container {\n",
              "      display:flex;\n",
              "      flex-wrap:wrap;\n",
              "      gap: 12px;\n",
              "    }\n",
              "\n",
              "    .colab-df-convert {\n",
              "      background-color: #E8F0FE;\n",
              "      border: none;\n",
              "      border-radius: 50%;\n",
              "      cursor: pointer;\n",
              "      display: none;\n",
              "      fill: #1967D2;\n",
              "      height: 32px;\n",
              "      padding: 0 0 0 0;\n",
              "      width: 32px;\n",
              "    }\n",
              "\n",
              "    .colab-df-convert:hover {\n",
              "      background-color: #E2EBFA;\n",
              "      box-shadow: 0px 1px 2px rgba(60, 64, 67, 0.3), 0px 1px 3px 1px rgba(60, 64, 67, 0.15);\n",
              "      fill: #174EA6;\n",
              "    }\n",
              "\n",
              "    [theme=dark] .colab-df-convert {\n",
              "      background-color: #3B4455;\n",
              "      fill: #D2E3FC;\n",
              "    }\n",
              "\n",
              "    [theme=dark] .colab-df-convert:hover {\n",
              "      background-color: #434B5C;\n",
              "      box-shadow: 0px 1px 3px 1px rgba(0, 0, 0, 0.15);\n",
              "      filter: drop-shadow(0px 1px 2px rgba(0, 0, 0, 0.3));\n",
              "      fill: #FFFFFF;\n",
              "    }\n",
              "  </style>\n",
              "\n",
              "      <script>\n",
              "        const buttonEl =\n",
              "          document.querySelector('#df-fed0d58e-dd1b-411a-ab3f-cb78f5a7243f button.colab-df-convert');\n",
              "        buttonEl.style.display =\n",
              "          google.colab.kernel.accessAllowed ? 'block' : 'none';\n",
              "\n",
              "        async function convertToInteractive(key) {\n",
              "          const element = document.querySelector('#df-fed0d58e-dd1b-411a-ab3f-cb78f5a7243f');\n",
              "          const dataTable =\n",
              "            await google.colab.kernel.invokeFunction('convertToInteractive',\n",
              "                                                     [key], {});\n",
              "          if (!dataTable) return;\n",
              "\n",
              "          const docLinkHtml = 'Like what you see? Visit the ' +\n",
              "            '<a target=\"_blank\" href=https://colab.research.google.com/notebooks/data_table.ipynb>data table notebook</a>'\n",
              "            + ' to learn more about interactive tables.';\n",
              "          element.innerHTML = '';\n",
              "          dataTable['output_type'] = 'display_data';\n",
              "          await google.colab.output.renderOutput(dataTable, element);\n",
              "          const docLink = document.createElement('div');\n",
              "          docLink.innerHTML = docLinkHtml;\n",
              "          element.appendChild(docLink);\n",
              "        }\n",
              "      </script>\n",
              "    </div>\n",
              "  </div>\n",
              "  "
            ],
            "text/plain": [
              "   iso_a3  ...                                           geometry\n",
              "55    FRA  ...  MULTIPOLYGON (((2.51357 51.14851, 2.65842 50.7...\n",
              "\n",
              "[1 rows x 6 columns]"
            ]
          },
          "metadata": {},
          "execution_count": 19
        }
      ],
      "source": [
        "countries[countries.contains(paris)]"
      ]
    },
    {
      "cell_type": "markdown",
      "metadata": {
        "id": "fdhNMH82gYpx"
      },
      "source": [
        "And indeed, France is the only country in the world in which Paris is located."
      ]
    },
    {
      "cell_type": "markdown",
      "metadata": {
        "id": "6UAokoOggYpx"
      },
      "source": [
        "Another example, extracting the linestring of the Amazon river in South America, we can query through which countries the river flows:"
      ]
    },
    {
      "cell_type": "code",
      "execution_count": null,
      "metadata": {
        "id": "ukg-WBQvgYpx",
        "colab": {
          "base_uri": "https://localhost:8080/",
          "height": 122
        },
        "outputId": "54f0c927-a162-4811-868c-cf06d2845333"
      },
      "outputs": [
        {
          "output_type": "execute_result",
          "data": {
            "text/plain": [
              "<shapely.geometry.linestring.LineString at 0x7f4196287550>"
            ],
            "image/svg+xml": "<svg xmlns=\"http://www.w3.org/2000/svg\" xmlns:xlink=\"http://www.w3.org/1999/xlink\" width=\"100.0\" height=\"100.0\" viewBox=\"-74.3216140366704 -5.277823272138241 22.490422558678098 4.559010611774324\" preserveAspectRatio=\"xMinYMin meet\"><g transform=\"matrix(1,0,0,-1,0,-5.9966359325021585)\"><polyline fill=\"none\" stroke=\"#66cc99\" stroke-width=\"0.44980845117356194\" points=\"-52.664170091276674,-1.5517912736482913 -52.873614671180064,-1.6111158177407674 -52.99998938630108,-1.668063245922042 -53.14489010229636,-1.7638713518813347 -53.35784868057209,-1.8383887674276025 -53.63886511932975,-1.891512139773397 -53.84329708499246,-1.9581230603309336 -53.97106706409369,-2.038273206842973 -54.04468014207487,-2.141212660535814 -54.06416215645834,-2.2670447732975845 -54.1866869773221,-2.357530205754358 -54.467651740135636,-2.4402124978084885 -54.52511593315376,-2.4403158505959937 -54.56413163876408,-2.440522556171004 -54.639010789516306,-2.4193352185454273 -54.676191982473995,-2.3592872049405287 -54.67456417539631,-2.253350518611512 -54.69381364578311,-2.1841040988250597 -54.73391455791045,-2.1516512992679964 -54.793523321943724,-2.1198186173352838 -54.87258826373733,-2.0886060521275454 -54.95663998045069,-2.1042123347314146 -55.045626797039006,-2.1667408179343397 -55.14972896981607,-2.180280042989523 -55.268998175625256,-2.1448300107963405 -55.375167405951004,-2.082714938743379 -55.45808224110249,-1.986803480895901 -55.51484880213047,-1.949493096728986 -55.55482052304865,-1.9239649393304603 -55.605850999424035,-1.9183838843087528 -55.66936133455789,-1.9265487608166154 -55.73571387359635,-1.963549085721695 -55.83971269358591,-1.989955743162966 -55.98133195700416,-2.0056653785543404 -56.129462449632285,-2.079511000532193 -56.28407833484721,-2.2115959609847664 -56.40086707195775,-2.336291192184717 -56.4797253081764,-2.4535966932327824 -56.54850663907007,-2.5269255512731092 -56.607185228015794,-2.556381117294677 -56.67625077974964,-2.5746745741722066 -56.7557808095367,-2.582012627480708 -56.847351446711855,-2.566509697664344 -56.951014369917175,-2.528165785622434 -57.04966467978113,-2.5231531713816935 -57.14327653698257,-2.5514201798973204 -57.244381476224135,-2.5264087864363205 -57.35300533682681,-2.448274020629526 -57.44002844955327,-2.4046591119284244 -57.505502488548984,-2.3956674131205773 -57.60539303276221,-2.4813469378108834 -57.73975175633842,-2.6618010396861678 -57.88284379720346,-2.7839641253440846 -58.03466915535722,-2.8476294901088295 -58.134973110720466,-2.958630466622708 -58.18365230960637,-3.116863702098101 -58.234992845243596,-3.199959405302252 -58.268065761525634,-3.2142737767133553 -58.315918138111556,-3.2118449848580894 -58.38015194365721,-3.2022331684259484 -58.45257646323313,-3.1815109187938333 -58.54931474427997,-3.205230401062124 -58.64225480791299,-3.3039840637135285 -58.68904781730288,-3.3423279757554383 -58.80511308490088,-3.3470822075777846 -58.88993994797016,-3.3226392557969575 -58.98220821803477,-3.270549411326215 -59.09134884257497,-3.2389234349685125 -59.21733598496769,-3.227761325824474 -59.381460333827306,-3.1842497699108776 -59.58364437478804,-3.10859547280279 -59.735443895419394,-3.077899672431897 -59.836833055501074,-3.0921623669996166 -59.89682939316191,-3.1276124000921186 -59.905640224816466,-3.1713823384241095 -59.924502122474905,-3.2059538714739233 -59.957497524391215,-3.237373142256672 -60.10503373871603,-3.305637709212874 -60.2031156068997,-3.3252230772831695 -60.27902828642624,-3.3020720348964687 -60.41059648294129,-3.299849948616213 -60.59776852050078,-3.3185568175430262 -60.74698421874666,-3.398086846430772 -60.85819190083549,-3.538336683391151 -61.03593299001545,-3.6103736302388256 -61.28015580944299,-3.6140943332868005 -61.46753455257749,-3.6760026997647515 -61.59806922031822,-3.7963054334489357 -61.7170283677649,-3.8830184869136133 -61.82441199401825,-3.936141859259351 -61.89265072255279,-3.9467872044658634 -62.01122229637184,-3.895730889668755 -62.27740759978087,-3.761785577242563 -62.36737626830012,-3.718067314854636 -62.39336951369205,-3.716361993411226 -62.42349687328203,-3.7305213351914404 -62.4494384427299,-3.801938165314027 -62.54312781429718,-3.8510824521933387 -62.70456498888308,-3.8780575495162566 -62.86290157714603,-3.938312269595542 -63.01813757998531,-4.0319499652187005 -63.09678910972957,-4.078458753768416 -63.152237922042445,-4.071534112509255 -63.177275153025846,-4.03515390342983 -63.21634253637893,-3.9744857722005804 -63.28292761941407,-3.9229126925666833 -63.449584112916455,-3.8709262017827655 -63.57321997781969,-3.853872979254561 -63.65380937390347,-3.871856377769575 -63.74744706862725,-3.8683940571399944 -63.85421057815563,-3.843434339623002 -64.03549150233096,-3.7645761043037282 -64.29128984205255,-3.631871026226804 -64.45830807166016,-3.523660576774148 -64.57561357270816,-3.398190199218277 -64.79027747242736,-3.222386976377834 -64.90505082883266,-3.12843922239216 -65.06974361847318,-2.9705160461785454 -65.17950436063768,-2.834503676203667 -65.28779232445618,-2.746757093964675 -65.39463334835028,-2.7072762994616255 -65.45868628584338,-2.6634546851855134 -65.47997697625641,-2.615498955812086 -65.55818925642899,-2.594311619085886 -65.76096757659235,-2.6029932595312744 -65.90057145840603,-2.4930774877358317 -65.97733679865428,-2.466154066357035 -66.03774654836445,-2.485481052008879 -66.09624426925757,-2.477419529187898 -66.15277828628882,-2.441866143307834 -66.21031999367273,-2.4599528946103533 -66.26892106825267,-2.5316797830954556 -66.33395585767664,-2.5367440732803175 -66.40539852532163,-2.475145766064202 -66.47100175642589,-2.4390756162466687 -66.53073971256765,-2.4285336238276045 -66.57254594613846,-2.4781429987003776 -66.59644629556004,-2.587903740864874 -66.64099138024795,-2.6591655413566286 -66.7061812002022,-2.6918250464886455 -66.80069739406946,-2.714510999982622 -66.9245399645477,-2.7273267555253256 -67.0769596019041,-2.695442396749172 -67.25798214366097,-2.618806247710097 -67.38402096199775,-2.6228370091206443 -67.45512773285856,-2.7073796522491307 -67.57240739638422,-2.7791582166782973 -67.73588579009709,-2.838224379251642 -67.84631832583005,-2.92783131256499 -67.93238542324866,-3.10802703202188 -67.92652014828616,-3.223265476420579 -67.94569210430711,-3.2831067844504673 -67.98786007308388,-3.325946546795649 -68.09457190576882,-3.333904717728501 -68.26582760236192,-3.306877943562199 -68.5957041080581,-3.345376885234998 -69.08417558443563,-3.4493498677022103 -69.35185950371306,-3.552702731645695 -69.39878170431217,-3.6554354797635256 -69.41627417641206,-3.7640593403662024 -69.40438859685622,-3.8785226375096613 -69.42498165527911,-3.97350392026965 -69.4780016748374,-4.049054863690969 -69.48094723152946,-4.111428318162325 -69.4337408109896,-4.160624280985758 -69.458778041973,-4.223101088244562 -69.55603308785669,-4.29880706129677 -69.68527584530398,-4.33467050553935 -69.8465063134156,-4.330536390442035 -69.94810217997161,-4.285164483454082 -69.96593054885568,-4.23596851973133 -70.0171935692278,-4.1619678690219075 -70.09475989425368,-4.092153008454545 -70.1675203115131,-4.05024342209623 -70.19839697903734,-3.9951563449892546 -70.24028072787326,-3.8827084285510978 -70.29844255198213,-3.844261162822363 -70.33949947761874,-3.8143405088073905 -70.3791869776968,-3.8187330054238373 -70.42109656405512,-3.8496355122690034 -70.48584713443768,-3.869375909070925 -70.52966874871373,-3.8663786755353726 -70.55736731644845,-3.87004770263934 -70.90047298883735,-3.960068048001972 -71.05793107795682,-3.9853894998254873 -71.13802954762548,-3.963427015844047 -71.19327165436334,-3.902758884614798 -71.28331783724838,-3.8689624979209043 -71.4081680971799,-3.862244561337377 -71.52139116087335,-3.8263811170948543 -71.62298702652998,-3.7614755179807275 -71.68866777200003,-3.6499061006859392 -71.71843339728343,-3.4916728652104894 -71.75197140155888,-3.394779554532761 -71.7893851385133,-3.3592261695520165 -71.91397701692574,-3.3837207981762276 -72.12577287431867,-3.4684701468797243 -72.29271358956049,-3.5034034151354376 -72.47585486481012,-3.481027520003977 -72.7467944000415,-3.456739596954776 -72.89050655763151,-3.467023206955389 -72.9973217431039,-3.503713474397273 -73.09369828984416,-3.562262872133772 -73.17961035853119,-3.642568047377438 -73.21136552609812,-3.782972913968763 -73.18898963096666,-3.9835808246952524 -73.19224524602123,-4.099232680243972 -73.22118404810527,-4.13003183340237 -73.26846798391028,-4.135922946786536 -73.33399369974939,-4.116906019497151 -73.36567135295053,-4.13251230210102 -73.3635009426144,-4.182638441810582 -73.3854117497524,-4.230852552703084 -73.43145545120808,-4.2771029597337815 -73.46302975162172,-4.336324151038696 -73.48863542338603,-4.444844658853867\" opacity=\"0.8\" /></g></svg>"
          },
          "metadata": {},
          "execution_count": 20
        }
      ],
      "source": [
        "amazon = rivers[rivers['name'] == 'Amazonas'].geometry.squeeze()\n",
        "amazon"
      ]
    },
    {
      "cell_type": "code",
      "execution_count": null,
      "metadata": {
        "id": "vuH-oR4MgYpx",
        "colab": {
          "base_uri": "https://localhost:8080/",
          "height": 143
        },
        "outputId": "fb0be2cf-7375-494a-e6b3-d8f856e13e60"
      },
      "outputs": [
        {
          "output_type": "execute_result",
          "data": {
            "text/html": [
              "\n",
              "  <div id=\"df-31de859f-916b-48af-8556-475dd63b16bf\">\n",
              "    <div class=\"colab-df-container\">\n",
              "      <div>\n",
              "<style scoped>\n",
              "    .dataframe tbody tr th:only-of-type {\n",
              "        vertical-align: middle;\n",
              "    }\n",
              "\n",
              "    .dataframe tbody tr th {\n",
              "        vertical-align: top;\n",
              "    }\n",
              "\n",
              "    .dataframe thead th {\n",
              "        text-align: right;\n",
              "    }\n",
              "</style>\n",
              "<table border=\"1\" class=\"dataframe\">\n",
              "  <thead>\n",
              "    <tr style=\"text-align: right;\">\n",
              "      <th></th>\n",
              "      <th>iso_a3</th>\n",
              "      <th>name</th>\n",
              "      <th>continent</th>\n",
              "      <th>pop_est</th>\n",
              "      <th>gdp_md_est</th>\n",
              "      <th>geometry</th>\n",
              "    </tr>\n",
              "  </thead>\n",
              "  <tbody>\n",
              "    <tr>\n",
              "      <th>22</th>\n",
              "      <td>BRA</td>\n",
              "      <td>Brazil</td>\n",
              "      <td>South America</td>\n",
              "      <td>207353391.0</td>\n",
              "      <td>3081000.0</td>\n",
              "      <td>POLYGON ((-57.62513 -30.21629, -56.29090 -28.8...</td>\n",
              "    </tr>\n",
              "    <tr>\n",
              "      <th>35</th>\n",
              "      <td>COL</td>\n",
              "      <td>Colombia</td>\n",
              "      <td>South America</td>\n",
              "      <td>47698524.0</td>\n",
              "      <td>688000.0</td>\n",
              "      <td>POLYGON ((-66.87633 1.25336, -67.06505 1.13011...</td>\n",
              "    </tr>\n",
              "    <tr>\n",
              "      <th>124</th>\n",
              "      <td>PER</td>\n",
              "      <td>Peru</td>\n",
              "      <td>South America</td>\n",
              "      <td>31036656.0</td>\n",
              "      <td>410400.0</td>\n",
              "      <td>POLYGON ((-69.52968 -10.95173, -68.66508 -12.5...</td>\n",
              "    </tr>\n",
              "  </tbody>\n",
              "</table>\n",
              "</div>\n",
              "      <button class=\"colab-df-convert\" onclick=\"convertToInteractive('df-31de859f-916b-48af-8556-475dd63b16bf')\"\n",
              "              title=\"Convert this dataframe to an interactive table.\"\n",
              "              style=\"display:none;\">\n",
              "        \n",
              "  <svg xmlns=\"http://www.w3.org/2000/svg\" height=\"24px\"viewBox=\"0 0 24 24\"\n",
              "       width=\"24px\">\n",
              "    <path d=\"M0 0h24v24H0V0z\" fill=\"none\"/>\n",
              "    <path d=\"M18.56 5.44l.94 2.06.94-2.06 2.06-.94-2.06-.94-.94-2.06-.94 2.06-2.06.94zm-11 1L8.5 8.5l.94-2.06 2.06-.94-2.06-.94L8.5 2.5l-.94 2.06-2.06.94zm10 10l.94 2.06.94-2.06 2.06-.94-2.06-.94-.94-2.06-.94 2.06-2.06.94z\"/><path d=\"M17.41 7.96l-1.37-1.37c-.4-.4-.92-.59-1.43-.59-.52 0-1.04.2-1.43.59L10.3 9.45l-7.72 7.72c-.78.78-.78 2.05 0 2.83L4 21.41c.39.39.9.59 1.41.59.51 0 1.02-.2 1.41-.59l7.78-7.78 2.81-2.81c.8-.78.8-2.07 0-2.86zM5.41 20L4 18.59l7.72-7.72 1.47 1.35L5.41 20z\"/>\n",
              "  </svg>\n",
              "      </button>\n",
              "      \n",
              "  <style>\n",
              "    .colab-df-container {\n",
              "      display:flex;\n",
              "      flex-wrap:wrap;\n",
              "      gap: 12px;\n",
              "    }\n",
              "\n",
              "    .colab-df-convert {\n",
              "      background-color: #E8F0FE;\n",
              "      border: none;\n",
              "      border-radius: 50%;\n",
              "      cursor: pointer;\n",
              "      display: none;\n",
              "      fill: #1967D2;\n",
              "      height: 32px;\n",
              "      padding: 0 0 0 0;\n",
              "      width: 32px;\n",
              "    }\n",
              "\n",
              "    .colab-df-convert:hover {\n",
              "      background-color: #E2EBFA;\n",
              "      box-shadow: 0px 1px 2px rgba(60, 64, 67, 0.3), 0px 1px 3px 1px rgba(60, 64, 67, 0.15);\n",
              "      fill: #174EA6;\n",
              "    }\n",
              "\n",
              "    [theme=dark] .colab-df-convert {\n",
              "      background-color: #3B4455;\n",
              "      fill: #D2E3FC;\n",
              "    }\n",
              "\n",
              "    [theme=dark] .colab-df-convert:hover {\n",
              "      background-color: #434B5C;\n",
              "      box-shadow: 0px 1px 3px 1px rgba(0, 0, 0, 0.15);\n",
              "      filter: drop-shadow(0px 1px 2px rgba(0, 0, 0, 0.3));\n",
              "      fill: #FFFFFF;\n",
              "    }\n",
              "  </style>\n",
              "\n",
              "      <script>\n",
              "        const buttonEl =\n",
              "          document.querySelector('#df-31de859f-916b-48af-8556-475dd63b16bf button.colab-df-convert');\n",
              "        buttonEl.style.display =\n",
              "          google.colab.kernel.accessAllowed ? 'block' : 'none';\n",
              "\n",
              "        async function convertToInteractive(key) {\n",
              "          const element = document.querySelector('#df-31de859f-916b-48af-8556-475dd63b16bf');\n",
              "          const dataTable =\n",
              "            await google.colab.kernel.invokeFunction('convertToInteractive',\n",
              "                                                     [key], {});\n",
              "          if (!dataTable) return;\n",
              "\n",
              "          const docLinkHtml = 'Like what you see? Visit the ' +\n",
              "            '<a target=\"_blank\" href=https://colab.research.google.com/notebooks/data_table.ipynb>data table notebook</a>'\n",
              "            + ' to learn more about interactive tables.';\n",
              "          element.innerHTML = '';\n",
              "          dataTable['output_type'] = 'display_data';\n",
              "          await google.colab.output.renderOutput(dataTable, element);\n",
              "          const docLink = document.createElement('div');\n",
              "          docLink.innerHTML = docLinkHtml;\n",
              "          element.appendChild(docLink);\n",
              "        }\n",
              "      </script>\n",
              "    </div>\n",
              "  </div>\n",
              "  "
            ],
            "text/plain": [
              "    iso_a3  ...                                           geometry\n",
              "22     BRA  ...  POLYGON ((-57.62513 -30.21629, -56.29090 -28.8...\n",
              "35     COL  ...  POLYGON ((-66.87633 1.25336, -67.06505 1.13011...\n",
              "124    PER  ...  POLYGON ((-69.52968 -10.95173, -68.66508 -12.5...\n",
              "\n",
              "[3 rows x 6 columns]"
            ]
          },
          "metadata": {},
          "execution_count": 21
        }
      ],
      "source": [
        "countries[countries.crosses(amazon)]  # or .intersects"
      ]
    },
    {
      "cell_type": "markdown",
      "metadata": {
        "id": "T3X36hIfgYpy"
      },
      "source": [
        "<div class=\"alert alert-info\" style=\"font-size:120%\">\n",
        "\n",
        "**REFERENCE**:\n",
        "\n",
        "Overview of the different functions to check spatial relationships (*spatial predicate functions*):\n",
        "\n",
        "* `equals`\n",
        "* `contains`\n",
        "* `crosses`\n",
        "* `disjoint`\n",
        "* `intersects`\n",
        "* `overlaps`\n",
        "* `touches`\n",
        "* `within`\n",
        "* `covers`\n",
        "\n",
        "\n",
        "See https://shapely.readthedocs.io/en/stable/manual.html#predicates-and-relationships for an overview of those methods.\n",
        "\n",
        "See https://en.wikipedia.org/wiki/DE-9IM for all details on the semantics of those operations.\n",
        "\n",
        "</div>"
      ]
    },
    {
      "cell_type": "markdown",
      "metadata": {
        "id": "HLanMVy_gYpy"
      },
      "source": [
        "## Let's practice!\n",
        "\n",
        "We will again use the Paris datasets to do some exercises. Let's start importing them again:"
      ]
    },
    {
      "cell_type": "code",
      "execution_count": null,
      "metadata": {
        "id": "UDxvTaUPgYpy"
      },
      "outputs": [],
      "source": [
        "districts = geopandas.read_file(\"/content/drive/MyDrive/Colab Notebooks/geopandas-tutorial-master/data/paris_districts.geojson\").to_crs(epsg=2154)\n",
        "stations = geopandas.read_file(\"/content/drive/MyDrive/Colab Notebooks/geopandas-tutorial-master/data/paris_bike_stations.geojson\").to_crs(epsg=2154)"
      ]
    },
    {
      "cell_type": "markdown",
      "metadata": {
        "id": "fYQfVCOvgYpy"
      },
      "source": [
        "<div class=\"alert alert-success\">\n",
        "\n",
        "**EXERCISE: The Eiffel Tower**\n",
        "\n",
        "The Eiffel Tower is an iron lattice tower built in the 19th century, and is probably the most iconic view of Paris.\n",
        "\n",
        "The location of the Eiffel Tower is: x of 648237.3 and y of 6862271.9.\n",
        "\n",
        "* Create a Shapely point object with the coordinates of the Eiffel Tower and assign it to a variable called `eiffel_tower`. Print the result.\n",
        "* Check if the Eiffel Tower is located within the Montparnasse district (provided).\n",
        "* Check if the Montparnasse district contains the bike station location.\n",
        "* Calculate the distance between the Eiffel Tower and the bike station (note: in this case, the distance is returned in meters).\n",
        "\n",
        "\n",
        "<details><summary>Hints</summary>\n",
        "\n",
        "* The `Point` class is available in the `shapely.geometry` submodule\n",
        "* Creating a point can be done by passing the x and y coordinates to the `Point()` constructor.\n",
        "* The `within()` method checks if the object is located within the passed geometry (used as `geometry1.within(geometry2)`).\n",
        "* The `contains()` method checks if the object contains the passed geometry (used as `geometry1.contains(geometry2)`).\n",
        "* To calculate the distance between two geometries, the `distance()` method of one of the geometries can be used.\n",
        "\n",
        "</details>\n",
        "\n",
        "</div>"
      ]
    },
    {
      "cell_type": "code",
      "execution_count": null,
      "metadata": {
        "id": "xuBFO6GhgYpz"
      },
      "outputs": [],
      "source": [
        "# Import the Point geometry\n",
        "from shapely.geometry import Point"
      ]
    },
    {
      "cell_type": "code",
      "execution_count": null,
      "metadata": {
        "clear_cell": true,
        "id": "aGX5MZt5gYpz"
      },
      "outputs": [],
      "source": [
        "# %load _solved/solutions/03-spatial-relationships-operations1.py\n",
        "eiffel_tower = Point(648237.3,6862271.9)"
      ]
    },
    {
      "cell_type": "code",
      "execution_count": null,
      "metadata": {
        "clear_cell": true,
        "id": "cKHllRtSgYpz",
        "colab": {
          "base_uri": "https://localhost:8080/"
        },
        "outputId": "8f23c98b-1948-4613-f494-6d64890e9fb8"
      },
      "outputs": [
        {
          "output_type": "execute_result",
          "data": {
            "text/plain": [
              "False"
            ]
          },
          "metadata": {},
          "execution_count": 25
        }
      ],
      "source": [
        "# %load _solved/solutions/03-spatial-relationships-operations2.py\n",
        "Montparnasse = districts[districts.district_name == \"Montparnasse\"].geometry.squeeze()\n",
        "eiffel_tower.within(Montparnasse)"
      ]
    },
    {
      "cell_type": "code",
      "execution_count": null,
      "metadata": {
        "id": "n4TirZ-lgYp0"
      },
      "outputs": [],
      "source": [
        "# Accessing the Montparnasse geometry (Polygon)\n",
        "district_montparnasse = districts.loc[52, 'geometry']\n",
        "bike_station = stations.loc[293, 'geometry']"
      ]
    },
    {
      "cell_type": "code",
      "execution_count": null,
      "metadata": {
        "clear_cell": true,
        "id": "SRKWkJMPgYp0",
        "colab": {
          "base_uri": "https://localhost:8080/",
          "height": 425
        },
        "outputId": "87a49306-6026-43be-c548-d3e51a35c963"
      },
      "outputs": [
        {
          "output_type": "execute_result",
          "data": {
            "text/html": [
              "\n",
              "  <div id=\"df-885bab49-4219-421c-9bdc-d81af2ab591f\">\n",
              "    <div class=\"colab-df-container\">\n",
              "      <div>\n",
              "<style scoped>\n",
              "    .dataframe tbody tr th:only-of-type {\n",
              "        vertical-align: middle;\n",
              "    }\n",
              "\n",
              "    .dataframe tbody tr th {\n",
              "        vertical-align: top;\n",
              "    }\n",
              "\n",
              "    .dataframe thead th {\n",
              "        text-align: right;\n",
              "    }\n",
              "</style>\n",
              "<table border=\"1\" class=\"dataframe\">\n",
              "  <thead>\n",
              "    <tr style=\"text-align: right;\">\n",
              "      <th></th>\n",
              "      <th>name</th>\n",
              "      <th>bike_stands</th>\n",
              "      <th>available_bikes</th>\n",
              "      <th>geometry</th>\n",
              "    </tr>\n",
              "  </thead>\n",
              "  <tbody>\n",
              "    <tr>\n",
              "      <th>0</th>\n",
              "      <td>14002 - RASPAIL QUINET</td>\n",
              "      <td>44</td>\n",
              "      <td>4</td>\n",
              "      <td>POINT (650791.111 6860114.328)</td>\n",
              "    </tr>\n",
              "    <tr>\n",
              "      <th>143</th>\n",
              "      <td>14112 - FAUBOURG SAINT JACQUES CASSINI</td>\n",
              "      <td>16</td>\n",
              "      <td>0</td>\n",
              "      <td>POINT (651406.382 6859738.689)</td>\n",
              "    </tr>\n",
              "    <tr>\n",
              "      <th>293</th>\n",
              "      <td>14033 - DAGUERRE GASSENDI</td>\n",
              "      <td>38</td>\n",
              "      <td>1</td>\n",
              "      <td>POINT (650694.991 6859723.873)</td>\n",
              "    </tr>\n",
              "    <tr>\n",
              "      <th>346</th>\n",
              "      <td>14006 - SAINT JACQUES TOMBE ISSOIRE</td>\n",
              "      <td>22</td>\n",
              "      <td>0</td>\n",
              "      <td>POINT (651327.035 6859441.637)</td>\n",
              "    </tr>\n",
              "    <tr>\n",
              "      <th>429</th>\n",
              "      <td>14111 - DENFERT-ROCHEREAU CASSINI</td>\n",
              "      <td>24</td>\n",
              "      <td>8</td>\n",
              "      <td>POINT (651261.351 6859926.893)</td>\n",
              "    </tr>\n",
              "    <tr>\n",
              "      <th>461</th>\n",
              "      <td>14101 - PLACE FERNAND MOURLOT</td>\n",
              "      <td>33</td>\n",
              "      <td>6</td>\n",
              "      <td>POINT (650332.576 6860374.620)</td>\n",
              "    </tr>\n",
              "    <tr>\n",
              "      <th>463</th>\n",
              "      <td>14127 - ODESSA</td>\n",
              "      <td>40</td>\n",
              "      <td>14</td>\n",
              "      <td>POINT (650419.266 6860522.602)</td>\n",
              "    </tr>\n",
              "    <tr>\n",
              "      <th>801</th>\n",
              "      <td>14004 - PORT ROYAL COCHIN</td>\n",
              "      <td>23</td>\n",
              "      <td>1</td>\n",
              "      <td>POINT (651615.334 6860022.062)</td>\n",
              "    </tr>\n",
              "    <tr>\n",
              "      <th>910</th>\n",
              "      <td>14113 - ARAGO 2</td>\n",
              "      <td>37</td>\n",
              "      <td>4</td>\n",
              "      <td>POINT (651669.813 6859654.328)</td>\n",
              "    </tr>\n",
              "    <tr>\n",
              "      <th>971</th>\n",
              "      <td>14036 - BOULARD DAGUERRE</td>\n",
              "      <td>43</td>\n",
              "      <td>0</td>\n",
              "      <td>POINT (650768.137 6859579.846)</td>\n",
              "    </tr>\n",
              "    <tr>\n",
              "      <th>985</th>\n",
              "      <td>14001 - EDGAR QUINET</td>\n",
              "      <td>27</td>\n",
              "      <td>5</td>\n",
              "      <td>POINT (650418.192 6860335.125)</td>\n",
              "    </tr>\n",
              "    <tr>\n",
              "      <th>1128</th>\n",
              "      <td>14003 - RASPAIL SCHOELCHER</td>\n",
              "      <td>47</td>\n",
              "      <td>2</td>\n",
              "      <td>POINT (650917.232 6859852.128)</td>\n",
              "    </tr>\n",
              "  </tbody>\n",
              "</table>\n",
              "</div>\n",
              "      <button class=\"colab-df-convert\" onclick=\"convertToInteractive('df-885bab49-4219-421c-9bdc-d81af2ab591f')\"\n",
              "              title=\"Convert this dataframe to an interactive table.\"\n",
              "              style=\"display:none;\">\n",
              "        \n",
              "  <svg xmlns=\"http://www.w3.org/2000/svg\" height=\"24px\"viewBox=\"0 0 24 24\"\n",
              "       width=\"24px\">\n",
              "    <path d=\"M0 0h24v24H0V0z\" fill=\"none\"/>\n",
              "    <path d=\"M18.56 5.44l.94 2.06.94-2.06 2.06-.94-2.06-.94-.94-2.06-.94 2.06-2.06.94zm-11 1L8.5 8.5l.94-2.06 2.06-.94-2.06-.94L8.5 2.5l-.94 2.06-2.06.94zm10 10l.94 2.06.94-2.06 2.06-.94-2.06-.94-.94-2.06-.94 2.06-2.06.94z\"/><path d=\"M17.41 7.96l-1.37-1.37c-.4-.4-.92-.59-1.43-.59-.52 0-1.04.2-1.43.59L10.3 9.45l-7.72 7.72c-.78.78-.78 2.05 0 2.83L4 21.41c.39.39.9.59 1.41.59.51 0 1.02-.2 1.41-.59l7.78-7.78 2.81-2.81c.8-.78.8-2.07 0-2.86zM5.41 20L4 18.59l7.72-7.72 1.47 1.35L5.41 20z\"/>\n",
              "  </svg>\n",
              "      </button>\n",
              "      \n",
              "  <style>\n",
              "    .colab-df-container {\n",
              "      display:flex;\n",
              "      flex-wrap:wrap;\n",
              "      gap: 12px;\n",
              "    }\n",
              "\n",
              "    .colab-df-convert {\n",
              "      background-color: #E8F0FE;\n",
              "      border: none;\n",
              "      border-radius: 50%;\n",
              "      cursor: pointer;\n",
              "      display: none;\n",
              "      fill: #1967D2;\n",
              "      height: 32px;\n",
              "      padding: 0 0 0 0;\n",
              "      width: 32px;\n",
              "    }\n",
              "\n",
              "    .colab-df-convert:hover {\n",
              "      background-color: #E2EBFA;\n",
              "      box-shadow: 0px 1px 2px rgba(60, 64, 67, 0.3), 0px 1px 3px 1px rgba(60, 64, 67, 0.15);\n",
              "      fill: #174EA6;\n",
              "    }\n",
              "\n",
              "    [theme=dark] .colab-df-convert {\n",
              "      background-color: #3B4455;\n",
              "      fill: #D2E3FC;\n",
              "    }\n",
              "\n",
              "    [theme=dark] .colab-df-convert:hover {\n",
              "      background-color: #434B5C;\n",
              "      box-shadow: 0px 1px 3px 1px rgba(0, 0, 0, 0.15);\n",
              "      filter: drop-shadow(0px 1px 2px rgba(0, 0, 0, 0.3));\n",
              "      fill: #FFFFFF;\n",
              "    }\n",
              "  </style>\n",
              "\n",
              "      <script>\n",
              "        const buttonEl =\n",
              "          document.querySelector('#df-885bab49-4219-421c-9bdc-d81af2ab591f button.colab-df-convert');\n",
              "        buttonEl.style.display =\n",
              "          google.colab.kernel.accessAllowed ? 'block' : 'none';\n",
              "\n",
              "        async function convertToInteractive(key) {\n",
              "          const element = document.querySelector('#df-885bab49-4219-421c-9bdc-d81af2ab591f');\n",
              "          const dataTable =\n",
              "            await google.colab.kernel.invokeFunction('convertToInteractive',\n",
              "                                                     [key], {});\n",
              "          if (!dataTable) return;\n",
              "\n",
              "          const docLinkHtml = 'Like what you see? Visit the ' +\n",
              "            '<a target=\"_blank\" href=https://colab.research.google.com/notebooks/data_table.ipynb>data table notebook</a>'\n",
              "            + ' to learn more about interactive tables.';\n",
              "          element.innerHTML = '';\n",
              "          dataTable['output_type'] = 'display_data';\n",
              "          await google.colab.output.renderOutput(dataTable, element);\n",
              "          const docLink = document.createElement('div');\n",
              "          docLink.innerHTML = docLinkHtml;\n",
              "          element.appendChild(docLink);\n",
              "        }\n",
              "      </script>\n",
              "    </div>\n",
              "  </div>\n",
              "  "
            ],
            "text/plain": [
              "                                        name  ...                        geometry\n",
              "0                     14002 - RASPAIL QUINET  ...  POINT (650791.111 6860114.328)\n",
              "143   14112 - FAUBOURG SAINT JACQUES CASSINI  ...  POINT (651406.382 6859738.689)\n",
              "293                14033 - DAGUERRE GASSENDI  ...  POINT (650694.991 6859723.873)\n",
              "346      14006 - SAINT JACQUES TOMBE ISSOIRE  ...  POINT (651327.035 6859441.637)\n",
              "429        14111 - DENFERT-ROCHEREAU CASSINI  ...  POINT (651261.351 6859926.893)\n",
              "461            14101 - PLACE FERNAND MOURLOT  ...  POINT (650332.576 6860374.620)\n",
              "463                           14127 - ODESSA  ...  POINT (650419.266 6860522.602)\n",
              "801                14004 - PORT ROYAL COCHIN  ...  POINT (651615.334 6860022.062)\n",
              "910                          14113 - ARAGO 2  ...  POINT (651669.813 6859654.328)\n",
              "971                 14036 - BOULARD DAGUERRE  ...  POINT (650768.137 6859579.846)\n",
              "985                     14001 - EDGAR QUINET  ...  POINT (650418.192 6860335.125)\n",
              "1128              14003 - RASPAIL SCHOELCHER  ...  POINT (650917.232 6859852.128)\n",
              "\n",
              "[12 rows x 4 columns]"
            ]
          },
          "metadata": {},
          "execution_count": 27
        }
      ],
      "source": [
        "# %load _solved/solutions/03-spatial-relationships-operations3.py\n",
        "bike_station_Montparnasse = stations[stations.within(Montparnasse)]\n",
        "bike_station_Montparnasse"
      ]
    },
    {
      "cell_type": "code",
      "execution_count": null,
      "metadata": {
        "clear_cell": true,
        "id": "nO5nPU2kgYp0",
        "colab": {
          "base_uri": "https://localhost:8080/"
        },
        "outputId": "2e1c4fe4-5b0c-490e-9519-77ec778367c5"
      },
      "outputs": [
        {
          "output_type": "execute_result",
          "data": {
            "text/plain": [
              "0       3343.212509\n",
              "143     4057.121563\n",
              "293     3540.153449\n",
              "346     4190.090011\n",
              "429     3826.740373\n",
              "461     2826.633057\n",
              "463     2796.608777\n",
              "801     4058.680606\n",
              "910     4316.691478\n",
              "971     3694.900183\n",
              "985     2916.742970\n",
              "1128    3610.724748\n",
              "dtype: float64"
            ]
          },
          "metadata": {},
          "execution_count": 28
        }
      ],
      "source": [
        "# %load _solved/solutions/03-spatial-relationships-operations4.py\n",
        "bike_station_Montparnasse.distance(eiffel_tower)"
      ]
    },
    {
      "cell_type": "code",
      "execution_count": null,
      "metadata": {
        "clear_cell": true,
        "id": "mHKAxCQMgYp0"
      },
      "outputs": [],
      "source": [
        "# %load _solved/solutions/03-spatial-relationships-operations5.py"
      ]
    },
    {
      "cell_type": "markdown",
      "metadata": {
        "id": "pcQ8erKAgYp1"
      },
      "source": [
        "<div class=\"alert alert-success\">\n",
        "\n",
        "**EXERCISE: In which district in the Eiffel Tower located?**\n",
        "\n",
        "In previous exercise, we constructed a `Point` geometry for its location, and we checked that it was not located in the Montparnasse district. Let's now determine in which of the districts of Paris it *is* located.\n",
        "\n",
        "* Create a boolean mask (or filter) indicating whether each district contains the Eiffel Tower or not. Call the result `mask`.\n",
        "* Filter the `districts` dataframe with the boolean mask and print the result.\n",
        "\n",
        "\n",
        "<details><summary>Hints</summary>\n",
        "\n",
        "* To check for each polygon in the districts dataset if it contains a single point, we can use the `contains()` method of the `districts` GeoDataFrame.\n",
        "* Filtering the rows of a DataFrame based on a condition can be done by passing the boolean mask into `df[..]`.\n",
        "\n",
        "</details>\n",
        "\n",
        "</div>"
      ]
    },
    {
      "cell_type": "code",
      "execution_count": null,
      "metadata": {
        "id": "zX2N1wMVgYp1"
      },
      "outputs": [],
      "source": [
        "# Construct a point object for the Eiffel Tower\n",
        "eiffel_tower = Point(648237.3, 6862271.9)"
      ]
    },
    {
      "cell_type": "code",
      "execution_count": null,
      "metadata": {
        "clear_cell": true,
        "id": "-Nr_gPZogYp1",
        "colab": {
          "base_uri": "https://localhost:8080/",
          "height": 81
        },
        "outputId": "f5df4b67-0b44-4649-da7b-66c9420ad9a6"
      },
      "outputs": [
        {
          "output_type": "execute_result",
          "data": {
            "text/html": [
              "\n",
              "  <div id=\"df-eb9611fb-e03a-4add-95c0-c17bb7352cb0\">\n",
              "    <div class=\"colab-df-container\">\n",
              "      <div>\n",
              "<style scoped>\n",
              "    .dataframe tbody tr th:only-of-type {\n",
              "        vertical-align: middle;\n",
              "    }\n",
              "\n",
              "    .dataframe tbody tr th {\n",
              "        vertical-align: top;\n",
              "    }\n",
              "\n",
              "    .dataframe thead th {\n",
              "        text-align: right;\n",
              "    }\n",
              "</style>\n",
              "<table border=\"1\" class=\"dataframe\">\n",
              "  <thead>\n",
              "    <tr style=\"text-align: right;\">\n",
              "      <th></th>\n",
              "      <th>id</th>\n",
              "      <th>district_name</th>\n",
              "      <th>population</th>\n",
              "      <th>geometry</th>\n",
              "    </tr>\n",
              "  </thead>\n",
              "  <tbody>\n",
              "    <tr>\n",
              "      <th>27</th>\n",
              "      <td>28</td>\n",
              "      <td>Gros-Caillou</td>\n",
              "      <td>25156</td>\n",
              "      <td>POLYGON ((649336.752 6861767.761, 649110.815 6...</td>\n",
              "    </tr>\n",
              "  </tbody>\n",
              "</table>\n",
              "</div>\n",
              "      <button class=\"colab-df-convert\" onclick=\"convertToInteractive('df-eb9611fb-e03a-4add-95c0-c17bb7352cb0')\"\n",
              "              title=\"Convert this dataframe to an interactive table.\"\n",
              "              style=\"display:none;\">\n",
              "        \n",
              "  <svg xmlns=\"http://www.w3.org/2000/svg\" height=\"24px\"viewBox=\"0 0 24 24\"\n",
              "       width=\"24px\">\n",
              "    <path d=\"M0 0h24v24H0V0z\" fill=\"none\"/>\n",
              "    <path d=\"M18.56 5.44l.94 2.06.94-2.06 2.06-.94-2.06-.94-.94-2.06-.94 2.06-2.06.94zm-11 1L8.5 8.5l.94-2.06 2.06-.94-2.06-.94L8.5 2.5l-.94 2.06-2.06.94zm10 10l.94 2.06.94-2.06 2.06-.94-2.06-.94-.94-2.06-.94 2.06-2.06.94z\"/><path d=\"M17.41 7.96l-1.37-1.37c-.4-.4-.92-.59-1.43-.59-.52 0-1.04.2-1.43.59L10.3 9.45l-7.72 7.72c-.78.78-.78 2.05 0 2.83L4 21.41c.39.39.9.59 1.41.59.51 0 1.02-.2 1.41-.59l7.78-7.78 2.81-2.81c.8-.78.8-2.07 0-2.86zM5.41 20L4 18.59l7.72-7.72 1.47 1.35L5.41 20z\"/>\n",
              "  </svg>\n",
              "      </button>\n",
              "      \n",
              "  <style>\n",
              "    .colab-df-container {\n",
              "      display:flex;\n",
              "      flex-wrap:wrap;\n",
              "      gap: 12px;\n",
              "    }\n",
              "\n",
              "    .colab-df-convert {\n",
              "      background-color: #E8F0FE;\n",
              "      border: none;\n",
              "      border-radius: 50%;\n",
              "      cursor: pointer;\n",
              "      display: none;\n",
              "      fill: #1967D2;\n",
              "      height: 32px;\n",
              "      padding: 0 0 0 0;\n",
              "      width: 32px;\n",
              "    }\n",
              "\n",
              "    .colab-df-convert:hover {\n",
              "      background-color: #E2EBFA;\n",
              "      box-shadow: 0px 1px 2px rgba(60, 64, 67, 0.3), 0px 1px 3px 1px rgba(60, 64, 67, 0.15);\n",
              "      fill: #174EA6;\n",
              "    }\n",
              "\n",
              "    [theme=dark] .colab-df-convert {\n",
              "      background-color: #3B4455;\n",
              "      fill: #D2E3FC;\n",
              "    }\n",
              "\n",
              "    [theme=dark] .colab-df-convert:hover {\n",
              "      background-color: #434B5C;\n",
              "      box-shadow: 0px 1px 3px 1px rgba(0, 0, 0, 0.15);\n",
              "      filter: drop-shadow(0px 1px 2px rgba(0, 0, 0, 0.3));\n",
              "      fill: #FFFFFF;\n",
              "    }\n",
              "  </style>\n",
              "\n",
              "      <script>\n",
              "        const buttonEl =\n",
              "          document.querySelector('#df-eb9611fb-e03a-4add-95c0-c17bb7352cb0 button.colab-df-convert');\n",
              "        buttonEl.style.display =\n",
              "          google.colab.kernel.accessAllowed ? 'block' : 'none';\n",
              "\n",
              "        async function convertToInteractive(key) {\n",
              "          const element = document.querySelector('#df-eb9611fb-e03a-4add-95c0-c17bb7352cb0');\n",
              "          const dataTable =\n",
              "            await google.colab.kernel.invokeFunction('convertToInteractive',\n",
              "                                                     [key], {});\n",
              "          if (!dataTable) return;\n",
              "\n",
              "          const docLinkHtml = 'Like what you see? Visit the ' +\n",
              "            '<a target=\"_blank\" href=https://colab.research.google.com/notebooks/data_table.ipynb>data table notebook</a>'\n",
              "            + ' to learn more about interactive tables.';\n",
              "          element.innerHTML = '';\n",
              "          dataTable['output_type'] = 'display_data';\n",
              "          await google.colab.output.renderOutput(dataTable, element);\n",
              "          const docLink = document.createElement('div');\n",
              "          docLink.innerHTML = docLinkHtml;\n",
              "          element.appendChild(docLink);\n",
              "        }\n",
              "      </script>\n",
              "    </div>\n",
              "  </div>\n",
              "  "
            ],
            "text/plain": [
              "    id  ...                                           geometry\n",
              "27  28  ...  POLYGON ((649336.752 6861767.761, 649110.815 6...\n",
              "\n",
              "[1 rows x 4 columns]"
            ]
          },
          "metadata": {},
          "execution_count": 31
        }
      ],
      "source": [
        "# %load _solved/solutions/03-spatial-relationships-operations6.py\n",
        "districts[districts.contains(eiffel_tower)]"
      ]
    },
    {
      "cell_type": "code",
      "source": [
        "districts[mask]"
      ],
      "metadata": {
        "id": "m4RPy_1f_50W",
        "colab": {
          "base_uri": "https://localhost:8080/",
          "height": 172
        },
        "outputId": "851846d1-127b-4d98-ce59-82b3ee193c56"
      },
      "execution_count": null,
      "outputs": [
        {
          "output_type": "error",
          "ename": "NameError",
          "evalue": "ignored",
          "traceback": [
            "\u001b[0;31m---------------------------------------------------------------------------\u001b[0m",
            "\u001b[0;31mNameError\u001b[0m                                 Traceback (most recent call last)",
            "\u001b[0;32m<ipython-input-32-088109baa8e3>\u001b[0m in \u001b[0;36m<module>\u001b[0;34m()\u001b[0m\n\u001b[0;32m----> 1\u001b[0;31m \u001b[0mdistricts\u001b[0m\u001b[0;34m[\u001b[0m\u001b[0mmask\u001b[0m\u001b[0;34m]\u001b[0m\u001b[0;34m\u001b[0m\u001b[0;34m\u001b[0m\u001b[0m\n\u001b[0m",
            "\u001b[0;31mNameError\u001b[0m: name 'mask' is not defined"
          ]
        }
      ]
    },
    {
      "cell_type": "code",
      "execution_count": null,
      "metadata": {
        "clear_cell": true,
        "id": "8VqELhy-gYp1"
      },
      "outputs": [],
      "source": [
        "# %load _solved/solutions/03-spatial-relationships-operations7.py\n",
        "!pip install contextily"
      ]
    },
    {
      "cell_type": "code",
      "source": [
        "import contextily"
      ],
      "metadata": {
        "id": "5d_s0J38CyMd"
      },
      "execution_count": null,
      "outputs": []
    },
    {
      "cell_type": "code",
      "source": [
        "ax = districts[districts.contains(eiffel_tower)].to_crs(epsg=3857).plot(figsize=(5,4), facecolor=\"none\",edgecolor=\"k\")\n",
        "contextily.add_basemap(ax)"
      ],
      "metadata": {
        "id": "RWibcjYiCfl2"
      },
      "execution_count": null,
      "outputs": []
    },
    {
      "cell_type": "markdown",
      "metadata": {
        "id": "0AQN2bm_gYp2"
      },
      "source": [
        "<div class=\"alert alert-success\">\n",
        "\n",
        "**EXERCISE: How far is the closest bike station?**\n",
        "\n",
        "Now, we might be interested in the bike stations nearby the Eiffel Tower. To explore them, let's visualize the Eiffel Tower itself as well as the bikes stations within 1km.\n",
        "\n",
        "To do this, we can calculate the distance to the Eiffel Tower for each of the stations. Based on this result, we can then create a mask that takes `True` if the station is within 1km, and `False` otherwise, and use it to filter the stations GeoDataFrame. Finally, we make a visualization of this subset.\n",
        "\n",
        "* Calculate the distance to the Eiffel Tower for each station, and call the result `dist_eiffel`.\n",
        "* Print the distance to the closest station (which is the minimum of `dist_eiffel`).\n",
        "* Select the rows the `stations` GeoDataFrame where the distance to the Eiffel Tower is less than 1 km (note that the distance is in meters). Call the result `stations_eiffel`.\n",
        "\n",
        "<details><summary>Hints</summary>\n",
        "\n",
        "* The `distance()` method of a GeoDataFrame works element-wise: it calculates the distance between each geometry in the GeoDataFrame and the geometry passed to the method.\n",
        "* A Series has a `min()` method to calculate the minimum value.\n",
        "* To create a boolean mask based on a condition, we can do e.g. `s < 100`.\n",
        "\n",
        "</details>\n",
        "\n",
        "</div>"
      ]
    },
    {
      "cell_type": "code",
      "source": [
        "dist_eiffel = stations.distance(eiffel_tower)\n",
        "dist_eiffel"
      ],
      "metadata": {
        "id": "8efbaG30GAVO",
        "colab": {
          "base_uri": "https://localhost:8080/"
        },
        "outputId": "4318ecf3-4c20-4872-ab3a-d3c8c854547b"
      },
      "execution_count": null,
      "outputs": [
        {
          "output_type": "execute_result",
          "data": {
            "text/plain": [
              "0        3343.212509\n",
              "1        8260.688451\n",
              "2        8126.514622\n",
              "3       10482.807156\n",
              "4       10176.957110\n",
              "            ...     \n",
              "1221     6636.204309\n",
              "1222     6153.437794\n",
              "1223     2709.390547\n",
              "1224     3633.146997\n",
              "1225     2420.249246\n",
              "Length: 1226, dtype: float64"
            ]
          },
          "metadata": {},
          "execution_count": 33
        }
      ]
    },
    {
      "cell_type": "code",
      "execution_count": null,
      "metadata": {
        "clear_cell": true,
        "id": "8Aq4G7XJgYp2"
      },
      "outputs": [],
      "source": [
        "# %load _solved/solutions/03-spatial-relationships-operations8.py\n",
        "stations[stations.distance(eiffel_tower) < 1000]"
      ]
    },
    {
      "cell_type": "code",
      "source": [
        "stations_1000= stations[dist_eiffel< 1000]\n",
        "stations_1000"
      ],
      "metadata": {
        "id": "V8Vwz8s0HZr-"
      },
      "execution_count": null,
      "outputs": []
    },
    {
      "cell_type": "code",
      "source": [
        "ax = stations_1000.to_crs(epsg=3857).plot()\n",
        "contextily.add_basemap(ax)"
      ],
      "metadata": {
        "id": "tj0x64aMHyTm"
      },
      "execution_count": null,
      "outputs": []
    },
    {
      "cell_type": "code",
      "execution_count": null,
      "metadata": {
        "clear_cell": true,
        "id": "hygQWuMFgYp2"
      },
      "outputs": [],
      "source": [
        "# %load _solved/solutions/03-spatial-relationships-operations9.py\n",
        "stationsClos = stations[stations.distance(eiffel_tower) == stations.distance(eiffel_tower).min()]\n",
        "stationsClos"
      ]
    },
    {
      "cell_type": "code",
      "execution_count": null,
      "metadata": {
        "clear_cell": true,
        "id": "Bd1zGPyogYp2"
      },
      "outputs": [],
      "source": [
        "# %load _solved/solutions/03-spatial-relationships-operations10.py\n",
        "ax = stationsClos.to_crs(epsg=3857).plot(figsize=(15,5),)\n",
        "geopandas.GeoSeries([eiffel_tower], crs='EPSG:2154').to_crs(epsg=3857).plot(ax=ax, color='red')\n",
        "contextily.add_basemap(ax)"
      ]
    },
    {
      "cell_type": "code",
      "execution_count": null,
      "metadata": {
        "id": "6w5JADVGgYp2"
      },
      "outputs": [],
      "source": [
        "# Make a plot of the close-by restaurants\n",
        "ax = stations_eiffel.to_crs(epsg=3857).plot()\n",
        "geopandas.GeoSeries([eiffel_tower], crs='EPSG:2154').to_crs(epsg=3857).plot(ax=ax, color='red')\n",
        "import contextily\n",
        "contextily.add_basemap(ax)\n",
        "ax.set_axis_off()"
      ]
    },
    {
      "cell_type": "markdown",
      "metadata": {
        "id": "7hWe5f6vgYp3"
      },
      "source": [
        "## Spatial operations\n",
        "\n",
        "Next to the spatial predicates that return boolean values, Shapely and GeoPandas also provide operations that return new geometric objects.\n",
        "\n",
        "**Binary operations:**\n",
        "\n",
        "<table><tr>\n",
        "<td> <img src=\"img/spatial-operations-base.png\"/> </td>\n",
        "<td> <img src=\"img/spatial-operations-intersection.png\"/> </td>\n",
        "</tr>\n",
        "<tr>\n",
        "<td> <img src=\"img/spatial-operations-union.png\"/> </td>\n",
        "<td> <img src=\"img/spatial-operations-difference.png\"/> </td>\n",
        "</tr></table>\n",
        "\n",
        "**Buffer:**\n",
        "\n",
        "<table><tr>\n",
        "<td> <img src=\"img/spatial-operations-buffer-point1.png\"/> </td>\n",
        "<td> <img src=\"img/spatial-operations-buffer-point2.png\"/> </td>\n",
        "</tr>\n",
        "<tr>\n",
        "<td> <img src=\"img/spatial-operations-buffer-line.png\"/> </td>\n",
        "<td> <img src=\"img/spatial-operations-buffer-polygon.png\"/> </td>\n",
        "</tr></table>\n",
        "\n",
        "\n",
        "See https://shapely.readthedocs.io/en/stable/manual.html#spatial-analysis-methods for more details."
      ]
    },
    {
      "cell_type": "markdown",
      "metadata": {
        "id": "aDnpTYvTgYp3"
      },
      "source": [
        "For example, using the toy data from above, let's construct a buffer around Brussels (which returns a Polygon):"
      ]
    },
    {
      "cell_type": "code",
      "execution_count": null,
      "metadata": {
        "id": "KRIsv-mpgYp4"
      },
      "outputs": [],
      "source": [
        "geopandas.GeoSeries([belgium, brussels.buffer(1)]).plot(alpha=0.5, cmap='tab10')"
      ]
    },
    {
      "cell_type": "markdown",
      "metadata": {
        "id": "05PrFmWXgYp4"
      },
      "source": [
        "and now take the intersection, union or difference of those two polygons:"
      ]
    },
    {
      "cell_type": "code",
      "execution_count": null,
      "metadata": {
        "id": "R6A27BL7gYp5"
      },
      "outputs": [],
      "source": [
        "brussels.buffer(1).intersection(belgium)"
      ]
    },
    {
      "cell_type": "code",
      "execution_count": null,
      "metadata": {
        "id": "D2tmnEAmgYp5"
      },
      "outputs": [],
      "source": [
        "brussels.buffer(1).union(belgium)"
      ]
    },
    {
      "cell_type": "code",
      "execution_count": null,
      "metadata": {
        "id": "USrR97CogYp5"
      },
      "outputs": [],
      "source": [
        "brussels.buffer(1).difference(belgium)"
      ]
    },
    {
      "cell_type": "markdown",
      "metadata": {
        "id": "dv_bjOMMgYp5"
      },
      "source": [
        "Another useful method is the `unary_union` attribute, which converts the set of geometry objects in a GeoDataFrame into a single geometry object by taking the union of all those geometries.\n",
        "\n",
        "For example, we can construct a single object for the Africa continent:"
      ]
    },
    {
      "cell_type": "code",
      "execution_count": null,
      "metadata": {
        "id": "KPayKxQdgYp6"
      },
      "outputs": [],
      "source": [
        "africa_countries = countries[countries['continent'] == 'Africa']\n",
        "africa_countries.plot()"
      ]
    },
    {
      "cell_type": "code",
      "execution_count": null,
      "metadata": {
        "id": "Vm2SoBqmgYp6"
      },
      "outputs": [],
      "source": [
        "africa = africa_countries.unary_union"
      ]
    },
    {
      "cell_type": "code",
      "execution_count": null,
      "metadata": {
        "id": "3QVQ19a0gYp6"
      },
      "outputs": [],
      "source": [
        "africa"
      ]
    },
    {
      "cell_type": "code",
      "execution_count": null,
      "metadata": {
        "id": "ik69H2HqgYp6"
      },
      "outputs": [],
      "source": [
        "print(str(africa)[:1000])"
      ]
    },
    {
      "cell_type": "markdown",
      "metadata": {
        "id": "x2CDQUhdgYp7"
      },
      "source": [
        "<div class=\"alert alert-info\" style=\"font-size:120%\">\n",
        "\n",
        "**REMEMBER**:\n",
        "\n",
        "GeoPandas (and Shapely for the individual objects) provides a whole lot of basic methods to analyse the geospatial data (distance, length, centroid, boundary, convex_hull, simplify, transform, ....), much more than the few that we can touch in this tutorial.\n",
        "\n",
        "\n",
        "* An overview of all methods provided by GeoPandas can be found here: http://geopandas.readthedocs.io/en/latest/reference.html\n",
        "\n",
        "\n",
        "</div>\n",
        "\n"
      ]
    },
    {
      "cell_type": "markdown",
      "metadata": {
        "id": "FCgE7wSPgYp7"
      },
      "source": [
        "## Let's practice!"
      ]
    },
    {
      "cell_type": "markdown",
      "metadata": {
        "id": "IiYCY1rMgYp7"
      },
      "source": [
        "<div class=\"alert alert-success\">\n",
        " <b>EXERCISE: What are the districts close to the Seine?</b>\n",
        " \n",
        " <p>\n",
        " Below, the coordinates for the Seine river in the neighbourhood of Paris are provided as a GeoJSON-like feature dictionary (created at http://geojson.io). \n",
        " </p>\n",
        " \n",
        "  <p>\n",
        " Based on this `seine` object, we want to know which districts are located close (maximum 150 m) to the Seine. \n",
        " </p>\n",
        " \n",
        " \n",
        " <p>\n",
        " <ul>\n",
        "  <li>Create a buffer of 150 m around the Seine.</li>\n",
        "  <li>Check which districts intersect with this buffered object.</li>\n",
        "  <li>Make a visualization of the districts indicating which districts are located close to the Seine.</li>\n",
        " </ul> \n",
        " </p>\n",
        " \n",
        "</div>"
      ]
    },
    {
      "cell_type": "code",
      "execution_count": null,
      "metadata": {
        "id": "lEVbUrkkgYp7"
      },
      "outputs": [],
      "source": [
        "districts = geopandas.read_file(\"/content/drive/MyDrive/Colab Notebooks/geopandas-tutorial-master/data/paris_districts.geojson\").to_crs(epsg=2154)"
      ]
    },
    {
      "cell_type": "code",
      "source": [
        "districts"
      ],
      "metadata": {
        "id": "aaRwVMle-n2X"
      },
      "execution_count": null,
      "outputs": []
    },
    {
      "cell_type": "code",
      "execution_count": null,
      "metadata": {
        "id": "r58GsA0dgYp8",
        "colab": {
          "base_uri": "https://localhost:8080/"
        },
        "outputId": "71aec5ac-92b1-414a-bc9e-007c7956d5c0"
      },
      "outputs": [
        {
          "output_type": "stream",
          "name": "stderr",
          "text": [
            "/usr/local/lib/python3.7/dist-packages/pyproj/crs/crs.py:131: FutureWarning: '+init=<authority>:<code>' syntax is deprecated. '<authority>:<code>' is the preferred initialization method. When making the change, be mindful of axis order changes: https://pyproj4.github.io/pyproj/stable/gotchas.html#axis-order-changes-in-proj-6\n",
            "  in_crs_string = _prepare_from_proj_string(in_crs_string)\n",
            "/usr/local/lib/python3.7/dist-packages/pyproj/crs/crs.py:131: FutureWarning: '+init=<authority>:<code>' syntax is deprecated. '<authority>:<code>' is the preferred initialization method. When making the change, be mindful of axis order changes: https://pyproj4.github.io/pyproj/stable/gotchas.html#axis-order-changes-in-proj-6\n",
            "  in_crs_string = _prepare_from_proj_string(in_crs_string)\n"
          ]
        }
      ],
      "source": [
        "# created a line with http://geojson.io\n",
        "s_seine = geopandas.GeoDataFrame.from_features({\"type\":\"FeatureCollection\",\"features\":[{\"type\":\"Feature\",\"properties\":{},\"geometry\":{\"type\":\"LineString\",\"coordinates\":[[2.408924102783203,48.805619828930226],[2.4092674255371094,48.81703747481909],[2.3927879333496094,48.82325391133874],[2.360687255859375,48.84912860497674],[2.338714599609375,48.85827758964043],[2.318115234375,48.8641501307046],[2.298717498779297,48.863246707697],[2.2913360595703125,48.859519915404825],[2.2594070434570312,48.8311646245967],[2.2436141967773438,48.82325391133874],[2.236919403076172,48.82347994904826],[2.227306365966797,48.828339513221444],[2.2224998474121094,48.83862215329593],[2.2254180908203125,48.84856379804802],[2.2240447998046875,48.85409863123821],[2.230224609375,48.867989496547864],[2.260265350341797,48.89192242750887],[2.300262451171875,48.910203080780285]]}}]},\n",
        "                                               crs={'init': 'epsg:4326'})"
      ]
    },
    {
      "cell_type": "code",
      "execution_count": null,
      "metadata": {
        "id": "erLKWmEtgYp8"
      },
      "outputs": [],
      "source": [
        "# convert to local UTM zone\n",
        "s_seine_utm = s_seine.to_crs(epsg=2154)"
      ]
    },
    {
      "cell_type": "code",
      "execution_count": null,
      "metadata": {
        "id": "mpyAHum4gYp8",
        "colab": {
          "base_uri": "https://localhost:8080/",
          "height": 512
        },
        "outputId": "643f253e-5c56-403a-f917-a9fe2df18128"
      },
      "outputs": [
        {
          "output_type": "execute_result",
          "data": {
            "text/plain": [
              "<matplotlib.axes._subplots.AxesSubplot at 0x7f418dc39250>"
            ]
          },
          "metadata": {},
          "execution_count": 38
        },
        {
          "output_type": "display_data",
          "data": {
            "image/png": "[encoded data removed]",
            "text/plain": [
              "<Figure size 1080x576 with 1 Axes>"
            ]
          },
          "metadata": {
            "needs_background": "light"
          }
        }
      ],
      "source": [
        "import matplotlib.pyplot as plt\n",
        "fig, ax = plt.subplots(figsize=(15, 8))\n",
        "districts.plot(ax=ax, color='grey', alpha=0.4, edgecolor='k')\n",
        "s_seine_utm.plot(ax=ax)"
      ]
    },
    {
      "cell_type": "code",
      "execution_count": null,
      "metadata": {
        "id": "_zLC-ZEqgYp8",
        "colab": {
          "base_uri": "https://localhost:8080/",
          "height": 322
        },
        "outputId": "ddbbe1eb-425b-4bfe-dd42-0864f95ec373"
      },
      "outputs": [
        {
          "output_type": "execute_result",
          "data": {
            "text/plain": [
              "<shapely.geometry.linestring.LineString at 0x7f418dc7e690>"
            ],
            "image/svg+xml": "<svg xmlns=\"http://www.w3.org/2000/svg\" xmlns:xlink=\"http://www.w3.org/1999/xlink\" width=\"300\" height=\"300\" viewBox=\"642385.5390317269 6855786.553267581 14785.299088867614 12789.132598101161\" preserveAspectRatio=\"xMinYMin meet\"><g transform=\"matrix(1,0,0,-1,0,13724362.239133265)\"><polyline fill=\"none\" stroke=\"#66cc99\" stroke-width=\"98.56866059245075\" points=\"656588.5221089586,6856334.15693754 656623.2344506364,6857603.466660504 655418.5044630952,6858303.839433177 653085.0174960498,6861199.432185306 651481.1445997765,6862229.9945667265 649975.4343574888,6862895.82473086 648551.5185565499,6862807.835622576 648006.286322579,6862398.284537775 645634.1937530102,6859266.985758455 644466.47421743,6858398.406743101 643975.2034119797,6858428.26830672 643274.7314327001,6858975.450409122 642933.142701685,6860122.213238477 643158.172393251,6861225.503375824 643063.4459986681,6861841.90604656 643531.9392998437,6863381.995538189 645760.489372459,6866022.093849931 648711.1286813841,6868028.082195724\" opacity=\"0.8\" /></g></svg>"
          },
          "metadata": {},
          "execution_count": 39
        }
      ],
      "source": [
        "# access the single geometry object\n",
        "seine = s_seine_utm.geometry.squeeze()\n",
        "seine"
      ]
    },
    {
      "cell_type": "markdown",
      "source": [
        "## Create a buffer of 150 m around the Seine.\n",
        "# Check which districts intersect with this buffered object.\n",
        "# Make a visualization of the districts indicating which districts are located close to the Seine."
      ],
      "metadata": {
        "id": "LMKcaf2K_7Sn"
      }
    },
    {
      "cell_type": "code",
      "execution_count": null,
      "metadata": {
        "clear_cell": true,
        "id": "pS_gr333gYp8"
      },
      "outputs": [],
      "source": [
        "# %load _solved/solutions/03-spatial-relationships-operations11.py\n",
        "sennabuffer=seine.buffer(150)\n",
        "sennabuffer"
      ]
    },
    {
      "cell_type": "code",
      "execution_count": null,
      "metadata": {
        "clear_cell": true,
        "id": "UwQ4lJicgYp9"
      },
      "outputs": [],
      "source": [
        "# %load _solved/solutions/03-spatial-relationships-operations12.py\n",
        "districtsIns=districts[districts.intersects(sennabuffer)]\n"
      ]
    },
    {
      "cell_type": "code",
      "source": [
        "districtsIns.plot()"
      ],
      "metadata": {
        "id": "LxckTbTdCfYA"
      },
      "execution_count": null,
      "outputs": []
    },
    {
      "cell_type": "code",
      "execution_count": null,
      "metadata": {
        "clear_cell": true,
        "id": "A24u7Y3CgYp9"
      },
      "outputs": [],
      "source": [
        "# %load _solved/solutions/03-spatial-relationships-operations13.py\n",
        "ax=districts[districtsIns].plot(figsize=(10,8))\n",
        "s_seine_utm.plot(ax=ax,color=\"k\")"
      ]
    },
    {
      "cell_type": "code",
      "execution_count": null,
      "metadata": {
        "clear_cell": true,
        "id": "qRjzRa9PgYp9"
      },
      "outputs": [],
      "source": [
        "# %load _solved/solutions/03-spatial-relationships-operations14.py"
      ]
    },
    {
      "cell_type": "code",
      "execution_count": null,
      "metadata": {
        "id": "0dakoaTwgYp9"
      },
      "outputs": [],
      "source": [
        ""
      ]
    },
    {
      "cell_type": "code",
      "source": [
        ""
      ],
      "metadata": {
        "id": "UyRQxDjS__4v"
      },
      "execution_count": null,
      "outputs": []
    }
  ],
  "metadata": {
    "kernelspec": {
      "display_name": "Python 3",
      "language": "python",
      "name": "python3"
    },
    "language_info": {
      "codemirror_mode": {
        "name": "ipython",
        "version": 3
      },
      "file_extension": ".py",
      "mimetype": "text/x-python",
      "name": "python",
      "nbconvert_exporter": "python",
      "pygments_lexer": "ipython3",
      "version": "3.7.3"
    },
    "colab": {
      "name": "03-spatial-relationships-operations.ipynb",
      "provenance": [],
      "collapsed_sections": []
    }
  },
  "nbformat": 4,
  "nbformat_minor": 0
}
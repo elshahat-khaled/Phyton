{
  "nbformat": 4,
  "nbformat_minor": 0,
  "metadata": {
    "colab": {
      "name": "correzioneveri 26/11.ipynb",
      "provenance": []
    },
    "kernelspec": {
      "name": "python3",
      "display_name": "Python 3"
    },
    "language_info": {
      "name": "python"
    }
  },
  "cells": [
    {
      "cell_type": "markdown",
      "metadata": {
        "id": "vxKntXaUwR8q"
      },
      "source": [
        "1. Collegarsi al proprio database (indicare sommariamente la stringa di connessione) e scaricare in un\n",
        "dataframe la collection chiamata “comuni_italiani”. Visualizzare il dataframe."
      ]
    },
    {
      "cell_type": "code",
      "metadata": {
        "id": "l0iiiJvmwUeq"
      },
      "source": [
        "import pandas as pd\n",
        "import matplotlib.pyplot as plt\n",
        "import pymongo\n",
        "import numpy as np"
      ],
      "execution_count": null,
      "outputs": []
    },
    {
      "cell_type": "code",
      "metadata": {
        "colab": {
          "base_uri": "https://localhost:8080/",
          "height": 424
        },
        "id": "nemJMHpWxBQa",
        "outputId": "0d274189-b439-454b-de9a-b7f072344de9"
      },
      "source": [
        "import pandas as pd\n",
        "df=pd.read_json(\"https://raw.githubusercontent.com/wtitze/4E/main/comuni_italiani.json\")\n",
        "df"
      ],
      "execution_count": null,
      "outputs": [
        {
          "output_type": "execute_result",
          "data": {
            "text/html": [
              "<div>\n",
              "<style scoped>\n",
              "    .dataframe tbody tr th:only-of-type {\n",
              "        vertical-align: middle;\n",
              "    }\n",
              "\n",
              "    .dataframe tbody tr th {\n",
              "        vertical-align: top;\n",
              "    }\n",
              "\n",
              "    .dataframe thead th {\n",
              "        text-align: right;\n",
              "    }\n",
              "</style>\n",
              "<table border=\"1\" class=\"dataframe\">\n",
              "  <thead>\n",
              "    <tr style=\"text-align: right;\">\n",
              "      <th></th>\n",
              "      <th>_id</th>\n",
              "      <th>Denominazione in italiano</th>\n",
              "      <th>Provincia</th>\n",
              "      <th>Denominazione Regione</th>\n",
              "      <th>Ripartizione geografica</th>\n",
              "    </tr>\n",
              "  </thead>\n",
              "  <tbody>\n",
              "    <tr>\n",
              "      <th>0</th>\n",
              "      <td>{'$oid': '619f9ec67727bc651542bb9f'}</td>\n",
              "      <td>Agliè</td>\n",
              "      <td>Torino</td>\n",
              "      <td>Piemonte</td>\n",
              "      <td>Nord-ovest</td>\n",
              "    </tr>\n",
              "    <tr>\n",
              "      <th>1</th>\n",
              "      <td>{'$oid': '619f9ec67727bc651542bba0'}</td>\n",
              "      <td>Airasca</td>\n",
              "      <td>Torino</td>\n",
              "      <td>Piemonte</td>\n",
              "      <td>Nord-ovest</td>\n",
              "    </tr>\n",
              "    <tr>\n",
              "      <th>2</th>\n",
              "      <td>{'$oid': '619f9ec67727bc651542bba1'}</td>\n",
              "      <td>Ala di Stura</td>\n",
              "      <td>Torino</td>\n",
              "      <td>Piemonte</td>\n",
              "      <td>Nord-ovest</td>\n",
              "    </tr>\n",
              "    <tr>\n",
              "      <th>3</th>\n",
              "      <td>{'$oid': '619f9ec67727bc651542bba2'}</td>\n",
              "      <td>Albiano d'Ivrea</td>\n",
              "      <td>Torino</td>\n",
              "      <td>Piemonte</td>\n",
              "      <td>Nord-ovest</td>\n",
              "    </tr>\n",
              "    <tr>\n",
              "      <th>4</th>\n",
              "      <td>{'$oid': '619f9ec67727bc651542bba3'}</td>\n",
              "      <td>Almese</td>\n",
              "      <td>Torino</td>\n",
              "      <td>Piemonte</td>\n",
              "      <td>Nord-ovest</td>\n",
              "    </tr>\n",
              "    <tr>\n",
              "      <th>...</th>\n",
              "      <td>...</td>\n",
              "      <td>...</td>\n",
              "      <td>...</td>\n",
              "      <td>...</td>\n",
              "      <td>...</td>\n",
              "    </tr>\n",
              "    <tr>\n",
              "      <th>7902</th>\n",
              "      <td>{'$oid': '619f9ec67727bc651542da7d'}</td>\n",
              "      <td>Villasor</td>\n",
              "      <td>Sud Sardegna</td>\n",
              "      <td>Sardegna</td>\n",
              "      <td>Isole</td>\n",
              "    </tr>\n",
              "    <tr>\n",
              "      <th>7903</th>\n",
              "      <td>{'$oid': '619f9ec67727bc651542da7e'}</td>\n",
              "      <td>Villaspeciosa</td>\n",
              "      <td>Sud Sardegna</td>\n",
              "      <td>Sardegna</td>\n",
              "      <td>Isole</td>\n",
              "    </tr>\n",
              "    <tr>\n",
              "      <th>7904</th>\n",
              "      <td>{'$oid': '619fa3557727bc651542da80'}</td>\n",
              "      <td>NaN</td>\n",
              "      <td>Torino</td>\n",
              "      <td>Piemonte</td>\n",
              "      <td>Nord-ovest</td>\n",
              "    </tr>\n",
              "    <tr>\n",
              "      <th>7905</th>\n",
              "      <td>{'$oid': '619fa3c57727bc651542da81'}</td>\n",
              "      <td>NaN</td>\n",
              "      <td>Gorizia</td>\n",
              "      <td>Friuli-Venezia Giulia</td>\n",
              "      <td>Nord-est</td>\n",
              "    </tr>\n",
              "    <tr>\n",
              "      <th>7906</th>\n",
              "      <td>{'$oid': '619fa3e77727bc651542da82'}</td>\n",
              "      <td>NaN</td>\n",
              "      <td>Agrigento</td>\n",
              "      <td>Sicilia</td>\n",
              "      <td>Isole</td>\n",
              "    </tr>\n",
              "  </tbody>\n",
              "</table>\n",
              "<p>7907 rows × 5 columns</p>\n",
              "</div>"
            ],
            "text/plain": [
              "                                       _id  ... Ripartizione geografica\n",
              "0     {'$oid': '619f9ec67727bc651542bb9f'}  ...              Nord-ovest\n",
              "1     {'$oid': '619f9ec67727bc651542bba0'}  ...              Nord-ovest\n",
              "2     {'$oid': '619f9ec67727bc651542bba1'}  ...              Nord-ovest\n",
              "3     {'$oid': '619f9ec67727bc651542bba2'}  ...              Nord-ovest\n",
              "4     {'$oid': '619f9ec67727bc651542bba3'}  ...              Nord-ovest\n",
              "...                                    ...  ...                     ...\n",
              "7902  {'$oid': '619f9ec67727bc651542da7d'}  ...                   Isole\n",
              "7903  {'$oid': '619f9ec67727bc651542da7e'}  ...                   Isole\n",
              "7904  {'$oid': '619fa3557727bc651542da80'}  ...              Nord-ovest\n",
              "7905  {'$oid': '619fa3c57727bc651542da81'}  ...                Nord-est\n",
              "7906  {'$oid': '619fa3e77727bc651542da82'}  ...                   Isole\n",
              "\n",
              "[7907 rows x 5 columns]"
            ]
          },
          "metadata": {},
          "execution_count": 2
        }
      ]
    },
    {
      "cell_type": "markdown",
      "metadata": {
        "id": "BvuJ_dOxytkD"
      },
      "source": [
        "2. Eliminare la colonna ‘_id’ e rinominare le altre colonne in modo che sia più semplice utilizzarle.\n",
        "Chiamarle ‘nome’, ‘provincia’, ‘regione’ e ‘area’"
      ]
    },
    {
      "cell_type": "code",
      "metadata": {
        "colab": {
          "base_uri": "https://localhost:8080/",
          "height": 424
        },
        "id": "r7N4QonixXly",
        "outputId": "12d5797a-b857-4834-ad09-3c6dbf3e4268"
      },
      "source": [
        "#df.drop(columns=['_id'])\n",
        "df.rename(columns={\"Denominazione in italiano\":\"nome\",\"Provincia\":\"provincia\",\"Denominazione Regione\":\"regione\",\"Ripartizione geografica\":\"area\"})\n",
        "df.drop(columns=['_id'])"
      ],
      "execution_count": null,
      "outputs": [
        {
          "output_type": "execute_result",
          "data": {
            "text/html": [
              "<div>\n",
              "<style scoped>\n",
              "    .dataframe tbody tr th:only-of-type {\n",
              "        vertical-align: middle;\n",
              "    }\n",
              "\n",
              "    .dataframe tbody tr th {\n",
              "        vertical-align: top;\n",
              "    }\n",
              "\n",
              "    .dataframe thead th {\n",
              "        text-align: right;\n",
              "    }\n",
              "</style>\n",
              "<table border=\"1\" class=\"dataframe\">\n",
              "  <thead>\n",
              "    <tr style=\"text-align: right;\">\n",
              "      <th></th>\n",
              "      <th>Denominazione in italiano</th>\n",
              "      <th>Provincia</th>\n",
              "      <th>Denominazione Regione</th>\n",
              "      <th>Ripartizione geografica</th>\n",
              "    </tr>\n",
              "  </thead>\n",
              "  <tbody>\n",
              "    <tr>\n",
              "      <th>0</th>\n",
              "      <td>Agliè</td>\n",
              "      <td>Torino</td>\n",
              "      <td>Piemonte</td>\n",
              "      <td>Nord-ovest</td>\n",
              "    </tr>\n",
              "    <tr>\n",
              "      <th>1</th>\n",
              "      <td>Airasca</td>\n",
              "      <td>Torino</td>\n",
              "      <td>Piemonte</td>\n",
              "      <td>Nord-ovest</td>\n",
              "    </tr>\n",
              "    <tr>\n",
              "      <th>2</th>\n",
              "      <td>Ala di Stura</td>\n",
              "      <td>Torino</td>\n",
              "      <td>Piemonte</td>\n",
              "      <td>Nord-ovest</td>\n",
              "    </tr>\n",
              "    <tr>\n",
              "      <th>3</th>\n",
              "      <td>Albiano d'Ivrea</td>\n",
              "      <td>Torino</td>\n",
              "      <td>Piemonte</td>\n",
              "      <td>Nord-ovest</td>\n",
              "    </tr>\n",
              "    <tr>\n",
              "      <th>4</th>\n",
              "      <td>Almese</td>\n",
              "      <td>Torino</td>\n",
              "      <td>Piemonte</td>\n",
              "      <td>Nord-ovest</td>\n",
              "    </tr>\n",
              "    <tr>\n",
              "      <th>...</th>\n",
              "      <td>...</td>\n",
              "      <td>...</td>\n",
              "      <td>...</td>\n",
              "      <td>...</td>\n",
              "    </tr>\n",
              "    <tr>\n",
              "      <th>7902</th>\n",
              "      <td>Villasor</td>\n",
              "      <td>Sud Sardegna</td>\n",
              "      <td>Sardegna</td>\n",
              "      <td>Isole</td>\n",
              "    </tr>\n",
              "    <tr>\n",
              "      <th>7903</th>\n",
              "      <td>Villaspeciosa</td>\n",
              "      <td>Sud Sardegna</td>\n",
              "      <td>Sardegna</td>\n",
              "      <td>Isole</td>\n",
              "    </tr>\n",
              "    <tr>\n",
              "      <th>7904</th>\n",
              "      <td>NaN</td>\n",
              "      <td>Torino</td>\n",
              "      <td>Piemonte</td>\n",
              "      <td>Nord-ovest</td>\n",
              "    </tr>\n",
              "    <tr>\n",
              "      <th>7905</th>\n",
              "      <td>NaN</td>\n",
              "      <td>Gorizia</td>\n",
              "      <td>Friuli-Venezia Giulia</td>\n",
              "      <td>Nord-est</td>\n",
              "    </tr>\n",
              "    <tr>\n",
              "      <th>7906</th>\n",
              "      <td>NaN</td>\n",
              "      <td>Agrigento</td>\n",
              "      <td>Sicilia</td>\n",
              "      <td>Isole</td>\n",
              "    </tr>\n",
              "  </tbody>\n",
              "</table>\n",
              "<p>7907 rows × 4 columns</p>\n",
              "</div>"
            ],
            "text/plain": [
              "     Denominazione in italiano  ... Ripartizione geografica\n",
              "0                        Agliè  ...              Nord-ovest\n",
              "1                      Airasca  ...              Nord-ovest\n",
              "2                 Ala di Stura  ...              Nord-ovest\n",
              "3              Albiano d'Ivrea  ...              Nord-ovest\n",
              "4                       Almese  ...              Nord-ovest\n",
              "...                        ...  ...                     ...\n",
              "7902                  Villasor  ...                   Isole\n",
              "7903             Villaspeciosa  ...                   Isole\n",
              "7904                       NaN  ...              Nord-ovest\n",
              "7905                       NaN  ...                Nord-est\n",
              "7906                       NaN  ...                   Isole\n",
              "\n",
              "[7907 rows x 4 columns]"
            ]
          },
          "metadata": {},
          "execution_count": 3
        }
      ]
    },
    {
      "cell_type": "markdown",
      "metadata": {
        "id": "OR6Qs5jD2WOC"
      },
      "source": [
        "3. Scrivere un breve programma per controllare se ci sono comuni che non hanno il nome. Se ci sono\n",
        "visualizzare il messaggio “Ci sono &lt;n&gt; comuni senza nome” ed eliminarli. Se non ci sono, visualizzare il\n",
        "messaggio “Tutti i comuni hanno il proprio nome”\n",
        "\n"
      ]
    },
    {
      "cell_type": "code",
      "metadata": {
        "id": "FhJyKPjIy0Hq"
      },
      "source": [
        ""
      ],
      "execution_count": null,
      "outputs": []
    },
    {
      "cell_type": "markdown",
      "metadata": {
        "id": "fb_xJFCry0cq"
      },
      "source": [
        "4. Creare un dataframe contenente il numero di comuni per ogni ripartizione geografica. La colonna del\n",
        "conteggio deve chiamarsi &#39;totale&#39; e nel dataframe non devono essere presenti altre colonne"
      ]
    },
    {
      "cell_type": "code",
      "metadata": {
        "colab": {
          "base_uri": "https://localhost:8080/",
          "height": 183
        },
        "id": "EZ0dvlspy4Lp",
        "outputId": "a1c37ef9-a88f-4b44-81b1-d97adbfb7dda"
      },
      "source": [
        "total = total.groupby(['area']).count()[['nome']].rename(columns={'nome':'total'})\n",
        "total"
      ],
      "execution_count": null,
      "outputs": [
        {
          "output_type": "error",
          "ename": "NameError",
          "evalue": "ignored",
          "traceback": [
            "\u001b[0;31m---------------------------------------------------------------------------\u001b[0m",
            "\u001b[0;31mNameError\u001b[0m                                 Traceback (most recent call last)",
            "\u001b[0;32m<ipython-input-5-c7f7d5edefe1>\u001b[0m in \u001b[0;36m<module>\u001b[0;34m()\u001b[0m\n\u001b[0;32m----> 1\u001b[0;31m \u001b[0mtotal\u001b[0m \u001b[0;34m=\u001b[0m \u001b[0mtotal\u001b[0m\u001b[0;34m.\u001b[0m\u001b[0mgroupby\u001b[0m\u001b[0;34m(\u001b[0m\u001b[0;34m[\u001b[0m\u001b[0;34m'area'\u001b[0m\u001b[0;34m]\u001b[0m\u001b[0;34m)\u001b[0m\u001b[0;34m.\u001b[0m\u001b[0mcount\u001b[0m\u001b[0;34m(\u001b[0m\u001b[0;34m)\u001b[0m\u001b[0;34m[\u001b[0m\u001b[0;34m[\u001b[0m\u001b[0;34m'nome'\u001b[0m\u001b[0;34m]\u001b[0m\u001b[0;34m]\u001b[0m\u001b[0;34m.\u001b[0m\u001b[0mrename\u001b[0m\u001b[0;34m(\u001b[0m\u001b[0mcolumns\u001b[0m\u001b[0;34m=\u001b[0m\u001b[0;34m{\u001b[0m\u001b[0;34m'nome'\u001b[0m\u001b[0;34m:\u001b[0m\u001b[0;34m'total'\u001b[0m\u001b[0;34m}\u001b[0m\u001b[0;34m)\u001b[0m\u001b[0;34m\u001b[0m\u001b[0;34m\u001b[0m\u001b[0m\n\u001b[0m\u001b[1;32m      2\u001b[0m \u001b[0mtotal\u001b[0m\u001b[0;34m\u001b[0m\u001b[0;34m\u001b[0m\u001b[0m\n",
            "\u001b[0;31mNameError\u001b[0m: name 'total' is not defined"
          ]
        }
      ]
    }
  ]
}
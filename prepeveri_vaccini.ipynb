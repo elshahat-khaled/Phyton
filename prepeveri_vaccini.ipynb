{
  "nbformat": 4,
  "nbformat_minor": 0,
  "metadata": {
    "colab": {
      "name": "prepeveri-vaccini.ipynb",
      "provenance": [],
      "collapsed_sections": []
    },
    "kernelspec": {
      "name": "python3",
      "display_name": "Python 3"
    },
    "language_info": {
      "name": "python"
    }
  },
  "cells": [
    {
      "cell_type": "code",
      "metadata": {
        "id": "GueySyZWmT1y"
      },
      "source": [
        "import pandas as pd"
      ],
      "execution_count": null,
      "outputs": []
    },
    {
      "cell_type": "code",
      "metadata": {
        "colab": {
          "base_uri": "https://localhost:8080/",
          "height": 346
        },
        "id": "V2l5o8W8mpv8",
        "outputId": "60daae5f-3678-4b9b-c405-90fb3a65c4fe"
      },
      "source": [
        "df=pd.read_csv(\"https://raw.githubusercontent.com/italia/covid19-opendata-vaccini/master/dati/anagrafica-vaccini-summary-latest.csv\")\n",
        "df"
      ],
      "execution_count": null,
      "outputs": [
        {
          "output_type": "execute_result",
          "data": {
            "text/html": [
              "<div>\n",
              "<style scoped>\n",
              "    .dataframe tbody tr th:only-of-type {\n",
              "        vertical-align: middle;\n",
              "    }\n",
              "\n",
              "    .dataframe tbody tr th {\n",
              "        vertical-align: top;\n",
              "    }\n",
              "\n",
              "    .dataframe thead th {\n",
              "        text-align: right;\n",
              "    }\n",
              "</style>\n",
              "<table border=\"1\" class=\"dataframe\">\n",
              "  <thead>\n",
              "    <tr style=\"text-align: right;\">\n",
              "      <th></th>\n",
              "      <th>fascia_anagrafica</th>\n",
              "      <th>totale</th>\n",
              "      <th>sesso_maschile</th>\n",
              "      <th>sesso_femminile</th>\n",
              "      <th>prima_dose</th>\n",
              "      <th>seconda_dose</th>\n",
              "      <th>pregressa_infezione</th>\n",
              "      <th>dose_aggiuntiva</th>\n",
              "      <th>dose_booster</th>\n",
              "      <th>ultimo_aggiornamento</th>\n",
              "    </tr>\n",
              "  </thead>\n",
              "  <tbody>\n",
              "    <tr>\n",
              "      <th>0</th>\n",
              "      <td>12-19</td>\n",
              "      <td>6268693</td>\n",
              "      <td>3209454</td>\n",
              "      <td>3059239</td>\n",
              "      <td>3223185</td>\n",
              "      <td>2940568</td>\n",
              "      <td>103985</td>\n",
              "      <td>726</td>\n",
              "      <td>229</td>\n",
              "      <td>2021-10-28</td>\n",
              "    </tr>\n",
              "    <tr>\n",
              "      <th>1</th>\n",
              "      <td>20-29</td>\n",
              "      <td>9891343</td>\n",
              "      <td>5171718</td>\n",
              "      <td>4719625</td>\n",
              "      <td>5075497</td>\n",
              "      <td>4587980</td>\n",
              "      <td>198307</td>\n",
              "      <td>3952</td>\n",
              "      <td>25607</td>\n",
              "      <td>2021-10-28</td>\n",
              "    </tr>\n",
              "    <tr>\n",
              "      <th>2</th>\n",
              "      <td>30-39</td>\n",
              "      <td>10555697</td>\n",
              "      <td>5420477</td>\n",
              "      <td>5135220</td>\n",
              "      <td>5415036</td>\n",
              "      <td>4888959</td>\n",
              "      <td>205108</td>\n",
              "      <td>7605</td>\n",
              "      <td>38989</td>\n",
              "      <td>2021-10-28</td>\n",
              "    </tr>\n",
              "    <tr>\n",
              "      <th>3</th>\n",
              "      <td>40-49</td>\n",
              "      <td>13761536</td>\n",
              "      <td>6829397</td>\n",
              "      <td>6932139</td>\n",
              "      <td>6991305</td>\n",
              "      <td>6417692</td>\n",
              "      <td>283878</td>\n",
              "      <td>18727</td>\n",
              "      <td>49934</td>\n",
              "      <td>2021-10-28</td>\n",
              "    </tr>\n",
              "    <tr>\n",
              "      <th>4</th>\n",
              "      <td>50-59</td>\n",
              "      <td>15818591</td>\n",
              "      <td>7760613</td>\n",
              "      <td>8057978</td>\n",
              "      <td>8023900</td>\n",
              "      <td>7337139</td>\n",
              "      <td>346607</td>\n",
              "      <td>39896</td>\n",
              "      <td>71049</td>\n",
              "      <td>2021-10-28</td>\n",
              "    </tr>\n",
              "    <tr>\n",
              "      <th>5</th>\n",
              "      <td>60-69</td>\n",
              "      <td>12875027</td>\n",
              "      <td>6247299</td>\n",
              "      <td>6627728</td>\n",
              "      <td>6537683</td>\n",
              "      <td>5948012</td>\n",
              "      <td>241212</td>\n",
              "      <td>57677</td>\n",
              "      <td>90443</td>\n",
              "      <td>2021-10-28</td>\n",
              "    </tr>\n",
              "    <tr>\n",
              "      <th>6</th>\n",
              "      <td>70-79</td>\n",
              "      <td>10840433</td>\n",
              "      <td>5091827</td>\n",
              "      <td>5748606</td>\n",
              "      <td>5393839</td>\n",
              "      <td>5158247</td>\n",
              "      <td>165987</td>\n",
              "      <td>61817</td>\n",
              "      <td>60543</td>\n",
              "      <td>2021-10-28</td>\n",
              "    </tr>\n",
              "    <tr>\n",
              "      <th>7</th>\n",
              "      <td>80-89</td>\n",
              "      <td>7541357</td>\n",
              "      <td>3148258</td>\n",
              "      <td>4393099</td>\n",
              "      <td>3451789</td>\n",
              "      <td>3388016</td>\n",
              "      <td>78350</td>\n",
              "      <td>36395</td>\n",
              "      <td>586807</td>\n",
              "      <td>2021-10-28</td>\n",
              "    </tr>\n",
              "    <tr>\n",
              "      <th>8</th>\n",
              "      <td>90+</td>\n",
              "      <td>1721375</td>\n",
              "      <td>514973</td>\n",
              "      <td>1206402</td>\n",
              "      <td>797161</td>\n",
              "      <td>768344</td>\n",
              "      <td>19234</td>\n",
              "      <td>6096</td>\n",
              "      <td>130540</td>\n",
              "      <td>2021-10-28</td>\n",
              "    </tr>\n",
              "  </tbody>\n",
              "</table>\n",
              "</div>"
            ],
            "text/plain": [
              "  fascia_anagrafica    totale  ...  dose_booster  ultimo_aggiornamento\n",
              "0             12-19   6268693  ...           229            2021-10-28\n",
              "1             20-29   9891343  ...         25607            2021-10-28\n",
              "2             30-39  10555697  ...         38989            2021-10-28\n",
              "3             40-49  13761536  ...         49934            2021-10-28\n",
              "4             50-59  15818591  ...         71049            2021-10-28\n",
              "5             60-69  12875027  ...         90443            2021-10-28\n",
              "6             70-79  10840433  ...         60543            2021-10-28\n",
              "7             80-89   7541357  ...        586807            2021-10-28\n",
              "8               90+   1721375  ...        130540            2021-10-28\n",
              "\n",
              "[9 rows x 10 columns]"
            ]
          },
          "metadata": {},
          "execution_count": 33
        }
      ]
    },
    {
      "cell_type": "markdown",
      "metadata": {
        "id": "O7EyX2Ponm0j"
      },
      "source": [
        "aggiungi una nuova colonna chiamata percentuale maschi, che contenga l a percentuale di maschi vaccinati"
      ]
    },
    {
      "cell_type": "code",
      "metadata": {
        "colab": {
          "base_uri": "https://localhost:8080/",
          "height": 346
        },
        "id": "LGhVExtVnyTL",
        "outputId": "47a6f25f-e76a-4fe0-866d-6c04bff17c49"
      },
      "source": [
        "df[\"percentuale_maschi\"] = df[\"sesso_maschile\"]/ df[\"totale\"]*100\n",
        "df"
      ],
      "execution_count": null,
      "outputs": [
        {
          "output_type": "execute_result",
          "data": {
            "text/html": [
              "<div>\n",
              "<style scoped>\n",
              "    .dataframe tbody tr th:only-of-type {\n",
              "        vertical-align: middle;\n",
              "    }\n",
              "\n",
              "    .dataframe tbody tr th {\n",
              "        vertical-align: top;\n",
              "    }\n",
              "\n",
              "    .dataframe thead th {\n",
              "        text-align: right;\n",
              "    }\n",
              "</style>\n",
              "<table border=\"1\" class=\"dataframe\">\n",
              "  <thead>\n",
              "    <tr style=\"text-align: right;\">\n",
              "      <th></th>\n",
              "      <th>fascia_anagrafica</th>\n",
              "      <th>totale</th>\n",
              "      <th>sesso_maschile</th>\n",
              "      <th>sesso_femminile</th>\n",
              "      <th>prima_dose</th>\n",
              "      <th>seconda_dose</th>\n",
              "      <th>pregressa_infezione</th>\n",
              "      <th>dose_aggiuntiva</th>\n",
              "      <th>dose_booster</th>\n",
              "      <th>ultimo_aggiornamento</th>\n",
              "      <th>percentuale_maschi</th>\n",
              "    </tr>\n",
              "  </thead>\n",
              "  <tbody>\n",
              "    <tr>\n",
              "      <th>0</th>\n",
              "      <td>12-19</td>\n",
              "      <td>6268693</td>\n",
              "      <td>3209454</td>\n",
              "      <td>3059239</td>\n",
              "      <td>3223185</td>\n",
              "      <td>2940568</td>\n",
              "      <td>103985</td>\n",
              "      <td>726</td>\n",
              "      <td>229</td>\n",
              "      <td>2021-10-28</td>\n",
              "      <td>51.198137</td>\n",
              "    </tr>\n",
              "    <tr>\n",
              "      <th>1</th>\n",
              "      <td>20-29</td>\n",
              "      <td>9891343</td>\n",
              "      <td>5171718</td>\n",
              "      <td>4719625</td>\n",
              "      <td>5075497</td>\n",
              "      <td>4587980</td>\n",
              "      <td>198307</td>\n",
              "      <td>3952</td>\n",
              "      <td>25607</td>\n",
              "      <td>2021-10-28</td>\n",
              "      <td>52.285296</td>\n",
              "    </tr>\n",
              "    <tr>\n",
              "      <th>2</th>\n",
              "      <td>30-39</td>\n",
              "      <td>10555697</td>\n",
              "      <td>5420477</td>\n",
              "      <td>5135220</td>\n",
              "      <td>5415036</td>\n",
              "      <td>4888959</td>\n",
              "      <td>205108</td>\n",
              "      <td>7605</td>\n",
              "      <td>38989</td>\n",
              "      <td>2021-10-28</td>\n",
              "      <td>51.351199</td>\n",
              "    </tr>\n",
              "    <tr>\n",
              "      <th>3</th>\n",
              "      <td>40-49</td>\n",
              "      <td>13761536</td>\n",
              "      <td>6829397</td>\n",
              "      <td>6932139</td>\n",
              "      <td>6991305</td>\n",
              "      <td>6417692</td>\n",
              "      <td>283878</td>\n",
              "      <td>18727</td>\n",
              "      <td>49934</td>\n",
              "      <td>2021-10-28</td>\n",
              "      <td>49.626706</td>\n",
              "    </tr>\n",
              "    <tr>\n",
              "      <th>4</th>\n",
              "      <td>50-59</td>\n",
              "      <td>15818591</td>\n",
              "      <td>7760613</td>\n",
              "      <td>8057978</td>\n",
              "      <td>8023900</td>\n",
              "      <td>7337139</td>\n",
              "      <td>346607</td>\n",
              "      <td>39896</td>\n",
              "      <td>71049</td>\n",
              "      <td>2021-10-28</td>\n",
              "      <td>49.060077</td>\n",
              "    </tr>\n",
              "    <tr>\n",
              "      <th>5</th>\n",
              "      <td>60-69</td>\n",
              "      <td>12875027</td>\n",
              "      <td>6247299</td>\n",
              "      <td>6627728</td>\n",
              "      <td>6537683</td>\n",
              "      <td>5948012</td>\n",
              "      <td>241212</td>\n",
              "      <td>57677</td>\n",
              "      <td>90443</td>\n",
              "      <td>2021-10-28</td>\n",
              "      <td>48.522609</td>\n",
              "    </tr>\n",
              "    <tr>\n",
              "      <th>6</th>\n",
              "      <td>70-79</td>\n",
              "      <td>10840433</td>\n",
              "      <td>5091827</td>\n",
              "      <td>5748606</td>\n",
              "      <td>5393839</td>\n",
              "      <td>5158247</td>\n",
              "      <td>165987</td>\n",
              "      <td>61817</td>\n",
              "      <td>60543</td>\n",
              "      <td>2021-10-28</td>\n",
              "      <td>46.970698</td>\n",
              "    </tr>\n",
              "    <tr>\n",
              "      <th>7</th>\n",
              "      <td>80-89</td>\n",
              "      <td>7541357</td>\n",
              "      <td>3148258</td>\n",
              "      <td>4393099</td>\n",
              "      <td>3451789</td>\n",
              "      <td>3388016</td>\n",
              "      <td>78350</td>\n",
              "      <td>36395</td>\n",
              "      <td>586807</td>\n",
              "      <td>2021-10-28</td>\n",
              "      <td>41.746572</td>\n",
              "    </tr>\n",
              "    <tr>\n",
              "      <th>8</th>\n",
              "      <td>90+</td>\n",
              "      <td>1721375</td>\n",
              "      <td>514973</td>\n",
              "      <td>1206402</td>\n",
              "      <td>797161</td>\n",
              "      <td>768344</td>\n",
              "      <td>19234</td>\n",
              "      <td>6096</td>\n",
              "      <td>130540</td>\n",
              "      <td>2021-10-28</td>\n",
              "      <td>29.916375</td>\n",
              "    </tr>\n",
              "  </tbody>\n",
              "</table>\n",
              "</div>"
            ],
            "text/plain": [
              "  fascia_anagrafica    totale  ...  ultimo_aggiornamento  percentuale_maschi\n",
              "0             12-19   6268693  ...            2021-10-28           51.198137\n",
              "1             20-29   9891343  ...            2021-10-28           52.285296\n",
              "2             30-39  10555697  ...            2021-10-28           51.351199\n",
              "3             40-49  13761536  ...            2021-10-28           49.626706\n",
              "4             50-59  15818591  ...            2021-10-28           49.060077\n",
              "5             60-69  12875027  ...            2021-10-28           48.522609\n",
              "6             70-79  10840433  ...            2021-10-28           46.970698\n",
              "7             80-89   7541357  ...            2021-10-28           41.746572\n",
              "8               90+   1721375  ...            2021-10-28           29.916375\n",
              "\n",
              "[9 rows x 11 columns]"
            ]
          },
          "metadata": {},
          "execution_count": 15
        }
      ]
    },
    {
      "cell_type": "markdown",
      "metadata": {
        "id": "_0-m4REUp8kf"
      },
      "source": [
        "visualizzare il numero totale di persone vaccinate con l aseconda dose"
      ]
    },
    {
      "cell_type": "code",
      "metadata": {
        "colab": {
          "base_uri": "https://localhost:8080/"
        },
        "id": "9eJIMtTPqJ1n",
        "outputId": "2560c4cf-f5d0-46ec-c13b-eec20947aa02"
      },
      "source": [
        "df[\"seconda_dose\"].sum()"
      ],
      "execution_count": null,
      "outputs": [
        {
          "output_type": "execute_result",
          "data": {
            "text/plain": [
              "41434957"
            ]
          },
          "metadata": {},
          "execution_count": 16
        }
      ]
    },
    {
      "cell_type": "markdown",
      "metadata": {
        "id": "uiqmNer4rbxd"
      },
      "source": [
        "eliminare le colonne sesso maschile e sesso femminile"
      ]
    },
    {
      "cell_type": "code",
      "metadata": {
        "colab": {
          "base_uri": "https://localhost:8080/",
          "height": 192
        },
        "id": "YPVTAnnHrmkM",
        "outputId": "ed98dffd-df88-4f97-da87-de6a4e243ac1"
      },
      "source": [
        "df = df.drop(columns=[\"sesso_maschile\",\"sesso_femminile\"])\n",
        "df"
      ],
      "execution_count": null,
      "outputs": [
        {
          "output_type": "execute_result",
          "data": {
            "text/html": [
              "<div>\n",
              "<style scoped>\n",
              "    .dataframe tbody tr th:only-of-type {\n",
              "        vertical-align: middle;\n",
              "    }\n",
              "\n",
              "    .dataframe tbody tr th {\n",
              "        vertical-align: top;\n",
              "    }\n",
              "\n",
              "    .dataframe thead th {\n",
              "        text-align: right;\n",
              "    }\n",
              "</style>\n",
              "<table border=\"1\" class=\"dataframe\">\n",
              "  <thead>\n",
              "    <tr style=\"text-align: right;\">\n",
              "      <th></th>\n",
              "      <th>fascia_anagrafica</th>\n",
              "      <th>totale</th>\n",
              "      <th>prima_dose</th>\n",
              "      <th>seconda_dose</th>\n",
              "      <th>pregressa_infezione</th>\n",
              "      <th>dose_aggiuntiva</th>\n",
              "      <th>dose_booster</th>\n",
              "      <th>ultimo_aggiornamento</th>\n",
              "    </tr>\n",
              "  </thead>\n",
              "  <tbody>\n",
              "    <tr>\n",
              "      <th>0</th>\n",
              "      <td>12-19</td>\n",
              "      <td>6268693</td>\n",
              "      <td>3223185</td>\n",
              "      <td>2940568</td>\n",
              "      <td>103985</td>\n",
              "      <td>726</td>\n",
              "      <td>229</td>\n",
              "      <td>2021-10-28</td>\n",
              "    </tr>\n",
              "    <tr>\n",
              "      <th>1</th>\n",
              "      <td>20-29</td>\n",
              "      <td>9891343</td>\n",
              "      <td>5075497</td>\n",
              "      <td>4587980</td>\n",
              "      <td>198307</td>\n",
              "      <td>3952</td>\n",
              "      <td>25607</td>\n",
              "      <td>2021-10-28</td>\n",
              "    </tr>\n",
              "    <tr>\n",
              "      <th>7</th>\n",
              "      <td>80-89</td>\n",
              "      <td>7541357</td>\n",
              "      <td>3451789</td>\n",
              "      <td>3388016</td>\n",
              "      <td>78350</td>\n",
              "      <td>36395</td>\n",
              "      <td>586807</td>\n",
              "      <td>2021-10-28</td>\n",
              "    </tr>\n",
              "    <tr>\n",
              "      <th>8</th>\n",
              "      <td>90+</td>\n",
              "      <td>1721375</td>\n",
              "      <td>797161</td>\n",
              "      <td>768344</td>\n",
              "      <td>19234</td>\n",
              "      <td>6096</td>\n",
              "      <td>130540</td>\n",
              "      <td>2021-10-28</td>\n",
              "    </tr>\n",
              "  </tbody>\n",
              "</table>\n",
              "</div>"
            ],
            "text/plain": [
              "  fascia_anagrafica   totale  ...  dose_booster  ultimo_aggiornamento\n",
              "0             12-19  6268693  ...           229            2021-10-28\n",
              "1             20-29  9891343  ...         25607            2021-10-28\n",
              "7             80-89  7541357  ...        586807            2021-10-28\n",
              "8               90+  1721375  ...        130540            2021-10-28\n",
              "\n",
              "[4 rows x 8 columns]"
            ]
          },
          "metadata": {},
          "execution_count": 36
        }
      ]
    },
    {
      "cell_type": "markdown",
      "metadata": {
        "id": "6VZ363zptRSR"
      },
      "source": [
        "cancellare le rige dalla 2 alla 6"
      ]
    },
    {
      "cell_type": "code",
      "metadata": {
        "colab": {
          "base_uri": "https://localhost:8080/",
          "height": 192
        },
        "id": "Hw1VI6qitV0i",
        "outputId": "b6c2d316-7a52-4ab8-f2b8-10755731008e"
      },
      "source": [
        "df = df.drop(range(2,7))\n",
        "df"
      ],
      "execution_count": null,
      "outputs": [
        {
          "output_type": "execute_result",
          "data": {
            "text/html": [
              "<div>\n",
              "<style scoped>\n",
              "    .dataframe tbody tr th:only-of-type {\n",
              "        vertical-align: middle;\n",
              "    }\n",
              "\n",
              "    .dataframe tbody tr th {\n",
              "        vertical-align: top;\n",
              "    }\n",
              "\n",
              "    .dataframe thead th {\n",
              "        text-align: right;\n",
              "    }\n",
              "</style>\n",
              "<table border=\"1\" class=\"dataframe\">\n",
              "  <thead>\n",
              "    <tr style=\"text-align: right;\">\n",
              "      <th></th>\n",
              "      <th>fascia_anagrafica</th>\n",
              "      <th>totale</th>\n",
              "      <th>sesso_maschile</th>\n",
              "      <th>sesso_femminile</th>\n",
              "      <th>prima_dose</th>\n",
              "      <th>seconda_dose</th>\n",
              "      <th>pregressa_infezione</th>\n",
              "      <th>dose_aggiuntiva</th>\n",
              "      <th>dose_booster</th>\n",
              "      <th>ultimo_aggiornamento</th>\n",
              "    </tr>\n",
              "  </thead>\n",
              "  <tbody>\n",
              "    <tr>\n",
              "      <th>0</th>\n",
              "      <td>12-19</td>\n",
              "      <td>6268693</td>\n",
              "      <td>3209454</td>\n",
              "      <td>3059239</td>\n",
              "      <td>3223185</td>\n",
              "      <td>2940568</td>\n",
              "      <td>103985</td>\n",
              "      <td>726</td>\n",
              "      <td>229</td>\n",
              "      <td>2021-10-28</td>\n",
              "    </tr>\n",
              "    <tr>\n",
              "      <th>1</th>\n",
              "      <td>20-29</td>\n",
              "      <td>9891343</td>\n",
              "      <td>5171718</td>\n",
              "      <td>4719625</td>\n",
              "      <td>5075497</td>\n",
              "      <td>4587980</td>\n",
              "      <td>198307</td>\n",
              "      <td>3952</td>\n",
              "      <td>25607</td>\n",
              "      <td>2021-10-28</td>\n",
              "    </tr>\n",
              "    <tr>\n",
              "      <th>7</th>\n",
              "      <td>80-89</td>\n",
              "      <td>7541357</td>\n",
              "      <td>3148258</td>\n",
              "      <td>4393099</td>\n",
              "      <td>3451789</td>\n",
              "      <td>3388016</td>\n",
              "      <td>78350</td>\n",
              "      <td>36395</td>\n",
              "      <td>586807</td>\n",
              "      <td>2021-10-28</td>\n",
              "    </tr>\n",
              "    <tr>\n",
              "      <th>8</th>\n",
              "      <td>90+</td>\n",
              "      <td>1721375</td>\n",
              "      <td>514973</td>\n",
              "      <td>1206402</td>\n",
              "      <td>797161</td>\n",
              "      <td>768344</td>\n",
              "      <td>19234</td>\n",
              "      <td>6096</td>\n",
              "      <td>130540</td>\n",
              "      <td>2021-10-28</td>\n",
              "    </tr>\n",
              "  </tbody>\n",
              "</table>\n",
              "</div>"
            ],
            "text/plain": [
              "  fascia_anagrafica   totale  ...  dose_booster  ultimo_aggiornamento\n",
              "0             12-19  6268693  ...           229            2021-10-28\n",
              "1             20-29  9891343  ...         25607            2021-10-28\n",
              "7             80-89  7541357  ...        586807            2021-10-28\n",
              "8               90+  1721375  ...        130540            2021-10-28\n",
              "\n",
              "[4 rows x 10 columns]"
            ]
          },
          "metadata": {},
          "execution_count": 34
        }
      ]
    },
    {
      "cell_type": "markdown",
      "metadata": {
        "id": "gvLNZohVul0Y"
      },
      "source": [
        "visualizzare i vaccinati della fascia 20_29"
      ]
    },
    {
      "cell_type": "code",
      "metadata": {
        "colab": {
          "base_uri": "https://localhost:8080/"
        },
        "id": "IOtsNupyuz6Z",
        "outputId": "eb82e36d-c703-4116-db02-d24187e312a1"
      },
      "source": [
        "df[df[\"fascia_anagrafica\"] == \"20-29\"][\"totale\"]"
      ],
      "execution_count": null,
      "outputs": [
        {
          "output_type": "execute_result",
          "data": {
            "text/plain": [
              "1    9891343\n",
              "Name: totale, dtype: int64"
            ]
          },
          "metadata": {},
          "execution_count": 41
        }
      ]
    },
    {
      "cell_type": "code",
      "metadata": {
        "colab": {
          "base_uri": "https://localhost:8080/",
          "height": 223
        },
        "id": "M0zRKsJTwlxs",
        "outputId": "82419d46-73ab-4af0-9e73-f6016f78197a"
      },
      "source": [
        "df = df.set_index(\"fascia_anagrafica\")\n",
        "df"
      ],
      "execution_count": null,
      "outputs": [
        {
          "output_type": "execute_result",
          "data": {
            "text/html": [
              "<div>\n",
              "<style scoped>\n",
              "    .dataframe tbody tr th:only-of-type {\n",
              "        vertical-align: middle;\n",
              "    }\n",
              "\n",
              "    .dataframe tbody tr th {\n",
              "        vertical-align: top;\n",
              "    }\n",
              "\n",
              "    .dataframe thead th {\n",
              "        text-align: right;\n",
              "    }\n",
              "</style>\n",
              "<table border=\"1\" class=\"dataframe\">\n",
              "  <thead>\n",
              "    <tr style=\"text-align: right;\">\n",
              "      <th></th>\n",
              "      <th>totale</th>\n",
              "      <th>prima_dose</th>\n",
              "      <th>seconda_dose</th>\n",
              "      <th>pregressa_infezione</th>\n",
              "      <th>dose_aggiuntiva</th>\n",
              "      <th>dose_booster</th>\n",
              "      <th>ultimo_aggiornamento</th>\n",
              "    </tr>\n",
              "    <tr>\n",
              "      <th>fascia_anagrafica</th>\n",
              "      <th></th>\n",
              "      <th></th>\n",
              "      <th></th>\n",
              "      <th></th>\n",
              "      <th></th>\n",
              "      <th></th>\n",
              "      <th></th>\n",
              "    </tr>\n",
              "  </thead>\n",
              "  <tbody>\n",
              "    <tr>\n",
              "      <th>12-19</th>\n",
              "      <td>6268693</td>\n",
              "      <td>3223185</td>\n",
              "      <td>2940568</td>\n",
              "      <td>103985</td>\n",
              "      <td>726</td>\n",
              "      <td>229</td>\n",
              "      <td>2021-10-28</td>\n",
              "    </tr>\n",
              "    <tr>\n",
              "      <th>20-29</th>\n",
              "      <td>9891343</td>\n",
              "      <td>5075497</td>\n",
              "      <td>4587980</td>\n",
              "      <td>198307</td>\n",
              "      <td>3952</td>\n",
              "      <td>25607</td>\n",
              "      <td>2021-10-28</td>\n",
              "    </tr>\n",
              "    <tr>\n",
              "      <th>80-89</th>\n",
              "      <td>7541357</td>\n",
              "      <td>3451789</td>\n",
              "      <td>3388016</td>\n",
              "      <td>78350</td>\n",
              "      <td>36395</td>\n",
              "      <td>586807</td>\n",
              "      <td>2021-10-28</td>\n",
              "    </tr>\n",
              "    <tr>\n",
              "      <th>90+</th>\n",
              "      <td>1721375</td>\n",
              "      <td>797161</td>\n",
              "      <td>768344</td>\n",
              "      <td>19234</td>\n",
              "      <td>6096</td>\n",
              "      <td>130540</td>\n",
              "      <td>2021-10-28</td>\n",
              "    </tr>\n",
              "  </tbody>\n",
              "</table>\n",
              "</div>"
            ],
            "text/plain": [
              "                    totale  prima_dose  ...  dose_booster  ultimo_aggiornamento\n",
              "fascia_anagrafica                       ...                                    \n",
              "12-19              6268693     3223185  ...           229            2021-10-28\n",
              "20-29              9891343     5075497  ...         25607            2021-10-28\n",
              "80-89              7541357     3451789  ...        586807            2021-10-28\n",
              "90+                1721375      797161  ...        130540            2021-10-28\n",
              "\n",
              "[4 rows x 7 columns]"
            ]
          },
          "metadata": {},
          "execution_count": 48
        }
      ]
    },
    {
      "cell_type": "code",
      "metadata": {
        "colab": {
          "base_uri": "https://localhost:8080/"
        },
        "id": "awdpz9s1wQ48",
        "outputId": "4ea7ccd5-96f1-406a-a1ff-0870851074a9"
      },
      "source": [
        "df.loc[\"20-29\",\"totale\"]"
      ],
      "execution_count": null,
      "outputs": [
        {
          "output_type": "execute_result",
          "data": {
            "text/plain": [
              "9891343"
            ]
          },
          "metadata": {},
          "execution_count": 50
        }
      ]
    },
    {
      "cell_type": "markdown",
      "metadata": {
        "id": "vnkYvABzxPQL"
      },
      "source": [
        "sostutuire al valore 90+ il valore 90-120"
      ]
    }
  ]
}